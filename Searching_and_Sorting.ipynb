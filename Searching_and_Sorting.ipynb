{
 "cells": [
  {
   "cell_type": "code",
   "execution_count": 5,
   "metadata": {},
   "outputs": [
    {
     "name": "stdout",
     "output_type": "stream",
     "text": [
      "8\n",
      "1 3 4 5 7 8 9 10\n",
      "6\n",
      "-1\n"
     ]
    }
   ],
   "source": [
    "#Binary Search  O(logn)\n",
    "n=int(input())\n",
    "l=[int(i) for i in input().split()]\n",
    "num=int(input())\n",
    "start = 0\n",
    "end= n-1\n",
    "while start<=end:\n",
    "    mid=(start+end)//2\n",
    "    if num>l[mid]:\n",
    "        start=mid+1\n",
    "        \n",
    "    elif num<l[mid]:\n",
    "        end=mid-1\n",
    "    else:\n",
    "        print(mid)\n",
    "        break\n",
    "else:\n",
    "    print(-1)\n",
    "        "
   ]
  },
  {
   "cell_type": "code",
   "execution_count": 14,
   "metadata": {},
   "outputs": [
    {
     "name": "stdout",
     "output_type": "stream",
     "text": [
      "7\n",
      "1 5 3 7 2 6 0\n",
      "[1, 5, 3, 7, 2, 6, 0]\n",
      "[0, 1, 2, 3, 5, 6, 7]\n"
     ]
    }
   ],
   "source": [
    "#Selection Sort O(n^2)\n",
    "n=int(input())\n",
    "l=[int(i) for i in input().split()]\n",
    "print(l)\n",
    "for i in range(0, n-1):\n",
    "    start=i\n",
    "    min=start\n",
    "    for j in range(start+1, n):\n",
    "        if l[j]<l[min]:\n",
    "            min=j\n",
    "    l[start], l[min]=l[min], l[start]\n",
    "print(l)\n",
    "            "
   ]
  },
  {
   "cell_type": "code",
   "execution_count": 21,
   "metadata": {},
   "outputs": [
    {
     "name": "stdout",
     "output_type": "stream",
     "text": [
      "7\n",
      "1 3 2 5 4 7 6\n",
      "1 2 3 4 5 6 7 "
     ]
    }
   ],
   "source": [
    "#Bubble Sort O(n^2)\n",
    "\n",
    "n=int(input())\n",
    "l=[int(i) for i in input().split()]\n",
    "for i in range(n-1):\n",
    "    for j in range(n-i-1):\n",
    "        if l[j]>l[j+1]:\n",
    "            l[j],l[j+1]=l[j+1],l[j]\n",
    "for i in l:\n",
    "    print(i, end=' ')"
   ]
  },
  {
   "cell_type": "code",
   "execution_count": 25,
   "metadata": {},
   "outputs": [
    {
     "name": "stdout",
     "output_type": "stream",
     "text": [
      "7\n",
      "1 4 3 5 2 7 6\n",
      "[1, 2, 3, 4, 5, 6, 7]\n"
     ]
    }
   ],
   "source": [
    "#Insertion Sort  O(n^2)\n",
    "n=int(input())\n",
    "l=[int(i) for i in input().split()]\n",
    "for i in range(1, n):\n",
    "    j=i-1\n",
    "    temp=l[i]\n",
    "    while j>=0 and l[j]>temp:\n",
    "        l[j+1]=l[j]\n",
    "        j=j-1\n",
    "    l[j+1]=temp\n",
    "print(l)"
   ]
  },
  {
   "cell_type": "code",
   "execution_count": null,
   "metadata": {},
   "outputs": [
    {
     "name": "stdout",
     "output_type": "stream",
     "text": [
      "7\n",
      "2 0 4 1 3 0 28\n"
     ]
    }
   ],
   "source": [
    "#merging two sorted list\n",
    "\n",
    "n1=int(input())\n",
    "l1=[int(i) for i in input().split()]\n",
    "n2=int(input())\n",
    "l2=[int(i) for i in input().split()]\n",
    "l3=[]\n",
    "i=0\n",
    "j=0\n",
    "while i<n1 and j<n2:\n",
    "    if l1[i]>l2[j]:\n",
    "        l3.append(l2[j])\n",
    "        j=j+1\n",
    "    else:\n",
    "        l3.append(l1[i])\n",
    "        i=i+1\n",
    "for p in range(i, n1):\n",
    "        l3.append(l1[p])\n",
    "for q in range(j, n2):\n",
    "        l3.append(l2[q])\n",
    "        \n",
    "for i in l3:\n",
    "    print(i, end=' ')"
   ]
  },
  {
   "cell_type": "code",
   "execution_count": 3,
   "metadata": {},
   "outputs": [
    {
     "name": "stdout",
     "output_type": "stream",
     "text": [
      "6\n",
      "2 5 4 3 1 8\n",
      "1 2 3 4 5 8\n"
     ]
    }
   ],
   "source": [
    "def mergeSort(arr):\n",
    "    # Please add your code here\n",
    "    if len(arr)==0 or len(arr)==1:\n",
    "        return \n",
    "    mid=len(arr)//2\n",
    "    l1=arr[0:mid]\n",
    "    l2=arr[mid:]\n",
    "    mergeSort(l1)\n",
    "    mergeSort(l2)\n",
    "    merge(l1, l2, arr)\n",
    "\n",
    "def merge(l1,l2,arr):\n",
    "    i=0\n",
    "    j=0\n",
    "    k=0\n",
    "    while i<len(l1) and j<len(l2):\n",
    "        if l1[i]<l2[j]:\n",
    "            arr[k]=l1[i]\n",
    "            k=k+1\n",
    "            i=i+1\n",
    "        else:\n",
    "            arr[k]=l2[j]\n",
    "            k=k+1\n",
    "            j=j+1\n",
    "    while i<len(l1):\n",
    "        arr[k]=l1[i]\n",
    "        k=k+1\n",
    "        i=i+1\n",
    "    while j<len(l2):\n",
    "        arr[k]=l2[j]\n",
    "        k=k+1\n",
    "        j=j+1\n",
    "\n",
    "    \n",
    "# Main\n",
    "n=int(input())\n",
    "arr=list(int(i) for i in input().strip().split(' '))\n",
    "mergeSort(arr)\n",
    "print(*arr)\n"
   ]
  },
  {
   "cell_type": "code",
   "execution_count": 2,
   "metadata": {},
   "outputs": [
    {
     "name": "stdout",
     "output_type": "stream",
     "text": [
      "5\n",
      "2 4 6 5 1\n",
      "1 2 4 5 6\n"
     ]
    }
   ],
   "source": [
    "#Quick Sort O(nlogn)\n",
    "def quickSort(arr, si, ei):\n",
    "    # Please add your code here\n",
    "    if si>=ei:\n",
    "        return\n",
    "    p=partition(arr, si, ei)\n",
    "    quickSort(arr, 0, p-1)\n",
    "    quickSort(arr, p+1, ei)\n",
    "    \n",
    "    \n",
    "    \n",
    "def partition(arr, si, ei):\n",
    "    count=0\n",
    "    p=arr[si]\n",
    "    for i in range(si, ei+1):\n",
    "        if arr[i]<p:\n",
    "            count=count+1\n",
    "    q=si+count\n",
    "    arr[q],arr[si]=arr[si],arr[q]\n",
    "    \n",
    "    i=si\n",
    "    j=ei\n",
    "    while i<q and j>q:\n",
    "        if arr[i]<arr[q]:\n",
    "            i=i+1\n",
    "        elif arr[j]>=arr[q]:\n",
    "            j=j-1\n",
    "        else:\n",
    "            arr[i],arr[j]=arr[j],arr[i]\n",
    "            i=i+1\n",
    "            j=j-1\n",
    "            \n",
    "    return q\n",
    "\n",
    "n=int(input())\n",
    "arr=list(int(i) for i in input().strip().split(' '))\n",
    "quickSort(arr, 0, len(arr)-1)\n",
    "print(*arr)\n"
   ]
  },
  {
   "cell_type": "code",
   "execution_count": null,
   "metadata": {},
   "outputs": [],
   "source": []
  }
 ],
 "metadata": {
  "kernelspec": {
   "display_name": "Python 3",
   "language": "python",
   "name": "python3"
  },
  "language_info": {
   "codemirror_mode": {
    "name": "ipython",
    "version": 3
   },
   "file_extension": ".py",
   "mimetype": "text/x-python",
   "name": "python",
   "nbconvert_exporter": "python",
   "pygments_lexer": "ipython3",
   "version": "3.7.4"
  }
 },
 "nbformat": 4,
 "nbformat_minor": 2
}
