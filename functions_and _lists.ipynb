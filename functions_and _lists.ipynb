{
 "cells": [
  {
   "cell_type": "code",
   "execution_count": 9,
   "metadata": {},
   "outputs": [
    {
     "name": "stdout",
     "output_type": "stream",
     "text": [
      "0\n",
      "100\n",
      "20\n",
      "0 \t -17\n",
      "20 \t -6\n",
      "40 \t 4\n",
      "60 \t 15\n",
      "80 \t 26\n",
      "100 \t 37\n"
     ]
    }
   ],
   "source": [
    "#converting fahrenheit to celsius\n",
    "def fara_to_cel(f):\n",
    "    return int((f-32)*5/9)\n",
    "    \n",
    "    \n",
    "\n",
    "def converter(s,e,w):\n",
    "    for f in range(s,e+1,w):\n",
    "        print(f,'\\t',fara_to_cel(f))\n",
    "        \n",
    "s=int(input())\n",
    "e=int(input())\n",
    "w=int(input())\n",
    "converter(s,e,w)\n",
    "    "
   ]
  },
  {
   "cell_type": "code",
   "execution_count": 3,
   "metadata": {},
   "outputs": [
    {
     "name": "stdout",
     "output_type": "stream",
     "text": [
      "13\n",
      "true\n"
     ]
    }
   ],
   "source": [
    "#check if the no is memeber of fibonacci series\n",
    "def checkMember(n):\n",
    "    a=1\n",
    "    b=0\n",
    "    for i in range(3, 10000):\n",
    "        c=a+b\n",
    "        a=b\n",
    "        b=c\n",
    "        if c==n:\n",
    "            return True\n",
    "        elif c>n:\n",
    "            return False\n",
    "    \n",
    "\n",
    "n=int(input())\n",
    "if(checkMember(n)):\n",
    "    print(\"true\")\n",
    "else:\n",
    "    print(\"false\")\n",
    "    "
   ]
  },
  {
   "cell_type": "code",
   "execution_count": 2,
   "metadata": {},
   "outputs": [
    {
     "name": "stdout",
     "output_type": "stream",
     "text": [
      "11\n",
      "true\n"
     ]
    }
   ],
   "source": [
    "#check if no is palindrome\n",
    "def checkPalindrome(num):\n",
    "    if str(num)==str(num)[::-1]:\n",
    "        return True\n",
    "    else:\n",
    "        return False\n",
    "\t\t\n",
    "num = int(input())\n",
    "isPalindrome = checkPalindrome(num)\n",
    "if(isPalindrome):\n",
    "\tprint('true')\n",
    "else:\n",
    "\tprint('false')\n"
   ]
  },
  {
   "cell_type": "code",
   "execution_count": 5,
   "metadata": {},
   "outputs": [
    {
     "name": "stdout",
     "output_type": "stream",
     "text": [
      "33\n",
      "33\n"
     ]
    }
   ],
   "source": [
    "#reversing the no\n",
    "n=int(input())\n",
    "rev=0\n",
    "while n>0:\n",
    "    temp=n%10\n",
    "    rev=10*rev+temp\n",
    "    n=n//10\n",
    "print(rev)\n",
    "    "
   ]
  },
  {
   "cell_type": "code",
   "execution_count": 7,
   "metadata": {},
   "outputs": [
    {
     "name": "stdout",
     "output_type": "stream",
     "text": [
      "371\n",
      "true\n"
     ]
    }
   ],
   "source": [
    "#check if armstrong number\n",
    "def isArmstrong(n):\n",
    "    sum=0\n",
    "    pow=len(str(n))\n",
    "    l=n\n",
    "    while l>0:\n",
    "        temp=l%10\n",
    "        sum=sum+(temp**pow)\n",
    "        l=l//10\n",
    "    if sum==n:\n",
    "        return True\n",
    "    else:\n",
    "        return False\n",
    "    \n",
    "n=int(input())\n",
    "if isArmstrong(n):\n",
    "    print('true')\n",
    "else:\n",
    "    print('false')\n",
    "        "
   ]
  },
  {
   "cell_type": "code",
   "execution_count": 2,
   "metadata": {},
   "outputs": [
    {
     "name": "stdout",
     "output_type": "stream",
     "text": [
      "4\n",
      "1 2 3 4 \n",
      "10\n"
     ]
    }
   ],
   "source": [
    "#sum of elements of the list\n",
    "n=int(input())\n",
    "l=[]\n",
    "data=input()\n",
    "for i in data.split(' '):\n",
    "    l.append(i)\n",
    "    \n",
    "s=0\n",
    "for j in l[0 :-1]:\n",
    "    s=s+int(j)\n",
    "print(s)"
   ]
  },
  {
   "cell_type": "code",
   "execution_count": 11,
   "metadata": {},
   "outputs": [
    {
     "name": "stdout",
     "output_type": "stream",
     "text": [
      "6\n",
      "1 3 5 7 9 0\n",
      "3 1 7 5 0 9 "
     ]
    }
   ],
   "source": [
    "#reversing alternate elements of the list\n",
    "n=int(input())\n",
    "li=[int(i) for i in input().split()]\n",
    "for i in range(0,n//2):\n",
    "    li[2*i], li[2*i+1] = li[2*i+1], li[2*i]\n",
    "    \n",
    "for j in li:\n",
    "    print(j, end=' ')\n"
   ]
  },
  {
   "cell_type": "code",
   "execution_count": 15,
   "metadata": {},
   "outputs": [
    {
     "name": "stdout",
     "output_type": "stream",
     "text": [
      "6\n",
      "3 3 3 4 5 5\n",
      "4\n"
     ]
    }
   ],
   "source": [
    "#printing nos having count less than n\n",
    "n=int(input())\n",
    "l=[int(i) for i in input().split()]\n",
    "for i in range(n):\n",
    "    j=l.count(l[i])\n",
    "    if j<2:\n",
    "        print(l[i])"
   ]
  },
  {
   "cell_type": "code",
   "execution_count": 27,
   "metadata": {},
   "outputs": [
    {
     "name": "stdout",
     "output_type": "stream",
     "text": [
      "6\n",
      "1 2 3 3 4 5 5\n",
      "3\n"
     ]
    }
   ],
   "source": [
    "n=int(input())\n",
    "l=[int(i) for i in input().split()]\n",
    "flag=0\n",
    "for i in range(n):\n",
    "    for j in range(n):\n",
    "        if l[i]==l[j] and i!=j:\n",
    "            print(l[i])\n",
    "            flag=1\n",
    "            break\n",
    "    if flag==1:\n",
    "        break"
   ]
  },
  {
   "cell_type": "code",
   "execution_count": 76,
   "metadata": {},
   "outputs": [
    {
     "name": "stdout",
     "output_type": "stream",
     "text": [
      "7\n",
      "1 2 3 4 5 6 7\n",
      "12\n",
      "1 4 7 \n",
      "1 5 6 \n",
      "2 3 7 \n",
      "2 4 6 \n",
      "3 4 5 \n"
     ]
    }
   ],
   "source": [
    "#printing all triplets having sum equal to x\n",
    "n=int(input())\n",
    "l=[int(i) for i in input().split()]\n",
    "x=int(input())\n",
    "for i in range(n):\n",
    "    for j in range(i+1, n):\n",
    "        for k in range(j+1, n):\n",
    "            if l[i]+l[j]+l[k]==x:\n",
    "                s=[]\n",
    "                s.append(l[i])\n",
    "                s.append(l[j])\n",
    "                s.append(l[k])\n",
    "                sorted(s)\n",
    "                for p in s:\n",
    "                    print(p, end=' ')\n",
    "                print()\n",
    "                "
   ]
  },
  {
   "cell_type": "code",
   "execution_count": 21,
   "metadata": {},
   "outputs": [
    {
     "name": "stdout",
     "output_type": "stream",
     "text": [
      "6\n",
      "1 1 1 0 0 0\n",
      "0 0 0 1 1 1 "
     ]
    }
   ],
   "source": [
    "#taking all zeros before 1\n",
    "n=int(input())\n",
    "l=[int(i) for i in input().split()]\n",
    "count=0\n",
    "for i in l:\n",
    "    if i==0:\n",
    "        count=count+1\n",
    "for j in range(count):\n",
    "    print(0, end=' ')\n",
    "for k in range(n-count):\n",
    "    print(1, end=' ')\n",
    "    \n",
    "    "
   ]
  },
  {
   "cell_type": "code",
   "execution_count": 19,
   "metadata": {},
   "outputs": [
    {
     "name": "stdout",
     "output_type": "stream",
     "text": [
      "5\n",
      "2 3 4 5 0\n",
      "[0, 5, 4, 3, 2]\n"
     ]
    }
   ],
   "source": [
    "#taling zeros before.\n",
    "n=int(input())\n",
    "i=0\n",
    "j=n-1\n",
    "l=[int(i) for i in input().split()]\n",
    "while i<j:\n",
    "    while l[i]==0 and i<j:\n",
    "        i=i+1\n",
    "    while l[j]==1 and i<j:\n",
    "        j=j-1\n",
    "    if i<j:\n",
    "        l[i],l[j]=l[j],l[i]\n",
    "        i=i+1\n",
    "        j=j-1\n",
    "print(l)"
   ]
  },
  {
   "cell_type": "code",
   "execution_count": null,
   "metadata": {},
   "outputs": [],
   "source": []
  }
 ],
 "metadata": {
  "kernelspec": {
   "display_name": "Python 3",
   "language": "python",
   "name": "python3"
  },
  "language_info": {
   "codemirror_mode": {
    "name": "ipython",
    "version": 3
   },
   "file_extension": ".py",
   "mimetype": "text/x-python",
   "name": "python",
   "nbconvert_exporter": "python",
   "pygments_lexer": "ipython3",
   "version": "3.7.4"
  }
 },
 "nbformat": 4,
 "nbformat_minor": 2
}
