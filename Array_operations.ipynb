{
 "cells": [
  {
   "cell_type": "code",
   "execution_count": 3,
   "metadata": {},
   "outputs": [
    {
     "name": "stdout",
     "output_type": "stream",
     "text": [
      "5\n",
      "1 3 0 0 4\n",
      "1 3 4 0 0 "
     ]
    }
   ],
   "source": [
    "#pushing all zeros to the end of the list\n",
    "n=int(input())\n",
    "l=[int(i) for i in input().split()]\n",
    "j=0\n",
    "for i in range(n):\n",
    "    if l[i]>0:\n",
    "        l[i], l[j]=l[j], l[i]\n",
    "        j=j+1\n",
    "    \n",
    "for i in l:\n",
    "    print(i, end=' ')"
   ]
  },
  {
   "cell_type": "code",
   "execution_count": 4,
   "metadata": {},
   "outputs": [
    {
     "name": "stdout",
     "output_type": "stream",
     "text": [
      "5\n",
      "1 2 3 4 5\n",
      "2\n",
      "3 4 5 1 2\n"
     ]
    }
   ],
   "source": [
    "#rotating array d shift\n",
    "def Rotate(l, x):\n",
    "    for i in range(x):\n",
    "        j=0\n",
    "        p=l[0]\n",
    "        while j<n-1:\n",
    "            l[j]=l[j+1]\n",
    "            j=j+1\n",
    "        l[n-1]=p\n",
    "    \n",
    "    return l\n",
    "\n",
    "# Main\n",
    "n=int(input())\n",
    "arr=list(int(i) for i in input().strip().split(' '))\n",
    "d=int(input())\n",
    "Rotate(arr, d)\n",
    "print(*arr)\n"
   ]
  },
  {
   "cell_type": "code",
   "execution_count": 37,
   "metadata": {},
   "outputs": [
    {
     "name": "stdout",
     "output_type": "stream",
     "text": [
      "5\n",
      "2 3 4 4 1\n",
      "1\n"
     ]
    }
   ],
   "source": [
    "#Second largest in Array\n",
    "n=int(input())\n",
    "if n>1:\n",
    "    l=[int(i) for i in input().split()]\n",
    "    fl=0\n",
    "    sl=0\n",
    "    for i in l:\n",
    "        if i>fl:\n",
    "            sl=fl\n",
    "            fl=i\n",
    "        elif i>sl and sl<fl:\n",
    "            sl=i\n",
    "    if fl==sl:\n",
    "        print(-2**31)\n",
    "    else:\n",
    "        print(sl)\n",
    "\n",
    "else:\n",
    "    print(-2**31)\n",
    "        "
   ]
  },
  {
   "cell_type": "code",
   "execution_count": 40,
   "metadata": {},
   "outputs": [
    {
     "name": "stdout",
     "output_type": "stream",
     "text": [
      "5\n",
      "2 3 4 5 6\n",
      "0\n"
     ]
    }
   ],
   "source": [
    "#Check array rotation\n",
    "\n",
    "n=int(input())\n",
    "l=[int(i) for i in input().split()]\n",
    "small=0\n",
    "for i in range(1,n-1):\n",
    "    if l[i]<l[small]:\n",
    "        small=i\n",
    "k=0\n",
    "for j in range(small):\n",
    "    k=k+1\n",
    "print(k)\n",
    "\n"
   ]
  },
  {
   "cell_type": "code",
   "execution_count": 14,
   "metadata": {},
   "outputs": [
    {
     "name": "stdout",
     "output_type": "stream",
     "text": [
      "26\n",
      "2 1 2 0 0 2 1 0 1 0 0 2 2 2 1 2 0 0 0 2 1 0 2 0 0 1 \n",
      "0 0 0 0 0 0 0 0 0 0 0 1 1 1 1 1 1 2 2 2 2 2 2 2 2 2 "
     ]
    }
   ],
   "source": [
    "#sort 0, 1, 2\n",
    "\n",
    "n=int(input())\n",
    "l=[int(i) for i in input().split()]\n",
    "j=0\n",
    "i=0\n",
    "k=n-1\n",
    "while i<=k:\n",
    "    if l[i]==0:\n",
    "        l[j],l[i]=l[i],l[j]\n",
    "        j=j+1\n",
    "        i=i+1\n",
    "    elif l[i]==1:\n",
    "        i=i+1\n",
    "    else:\n",
    "        l[k],l[i]=l[i],l[k]\n",
    "        k=k-1\n",
    "for i in l:\n",
    "    print(i, end=' ')"
   ]
  },
  {
   "cell_type": "code",
   "execution_count": 2,
   "metadata": {},
   "outputs": [
    {
     "name": "stdout",
     "output_type": "stream",
     "text": [
      "5\n",
      "1 1 0 2 0 2\n",
      "0 0 1 1 2 "
     ]
    }
   ],
   "source": [
    "\n",
    "#sort 0, 1, 2\n",
    "\n",
    "n=int(input())\n",
    "l=[int(i) for i in input().split()]\n",
    "m=[]\n",
    "for i in range(3):\n",
    "    p=i\n",
    "    for j in range(n):\n",
    "        if l[j]==p:\n",
    "            m.append(l[j])\n",
    "            \n",
    "            \n",
    "for i in m:\n",
    "    print(i, end=' ')           \n",
    "\n",
    "\n"
   ]
  },
  {
   "cell_type": "code",
   "execution_count": null,
   "metadata": {},
   "outputs": [],
   "source": [
    "#adding two arrays index wise\n",
    "\n",
    "n1=int(input())\n",
    "l1=[int(i) for i in input().split()]\n",
    "n2=int(input())\n",
    "l2=[int(i) for i in input().split()]\n",
    "if n1>n2:\n",
    "    big=n1\n",
    "    for j in range(n2,n1):\n",
    "        l2.insert(0,0)\n",
    "        \n",
    "else:\n",
    "    big=n2\n",
    "    for j in range(n1,n2):\n",
    "        l1.insert(0,0)\n",
    "\n",
    "s1=''\n",
    "s2=''\n",
    "for i in l1:\n",
    "    s1=s1+str(i)\n",
    "for j in l2:\n",
    "    s2=s2+str(j)\n",
    "    \n",
    "s3=int(s1)+int(s2)\n",
    "l3=[]\n",
    "for i in str(s3):\n",
    "    l3.append(int(i))\n",
    "if len(l3)==big:\n",
    "    for i in range(len(l3),len(l3)+1):\n",
    "        l3.insert(0,0)\n",
    "        \n",
    "for j in l3:\n",
    "    print(j, end=' ')\n"
   ]
  },
  {
   "cell_type": "code",
   "execution_count": 34,
   "metadata": {},
   "outputs": [
    {
     "name": "stdout",
     "output_type": "stream",
     "text": [
      "3\n",
      "4 5 6\n",
      "5\n",
      "3 4 5 6 7\n",
      "0 3 5 0 2 3 "
     ]
    }
   ],
   "source": [
    "#sum of two arrays indexwise\n",
    "n1=int(input())\n",
    "l1=[int(i) for i in input().split()]\n",
    "n2=int(input())\n",
    "l2=[int(i) for i in input().split()]\n",
    "n3=n1+1 if n1>n2 else n2+1\n",
    "l3=[0]*n3\n",
    "carry=0\n",
    "i=n1-1\n",
    "j=n2-1\n",
    "k=n3-1\n",
    "while k>=0:\n",
    "    sum=0\n",
    "    if i>=0:\n",
    "        sum=sum+l1[i]\n",
    "        i=i-1\n",
    "    if j>=0:\n",
    "        sum=sum+l2[j]\n",
    "        j=j-1\n",
    "    sum=sum+carry\n",
    "    carry=sum//10\n",
    "    out=sum%10\n",
    "    l3[k]=out\n",
    "    k=k-1\n",
    "for i in l3:\n",
    "    print(i, end=' ')\n",
    "        "
   ]
  },
  {
   "cell_type": "code",
   "execution_count": null,
   "metadata": {},
   "outputs": [],
   "source": []
  }
 ],
 "metadata": {
  "kernelspec": {
   "display_name": "Python 3",
   "language": "python",
   "name": "python3"
  },
  "language_info": {
   "codemirror_mode": {
    "name": "ipython",
    "version": 3
   },
   "file_extension": ".py",
   "mimetype": "text/x-python",
   "name": "python",
   "nbconvert_exporter": "python",
   "pygments_lexer": "ipython3",
   "version": "3.7.4"
  }
 },
 "nbformat": 4,
 "nbformat_minor": 2
}
