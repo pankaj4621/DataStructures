{
 "cells": [
  {
   "cell_type": "code",
   "execution_count": 1,
   "metadata": {},
   "outputs": [
    {
     "data": {
      "text/plain": [
       "False"
      ]
     },
     "execution_count": 1,
     "metadata": {},
     "output_type": "execute_result"
    }
   ],
   "source": [
    "#check list is sorted usiing recursion\n",
    "def issorted(arr):\n",
    "    l=len(arr)\n",
    "    if l==0 or l==1:\n",
    "        return True\n",
    "    if arr[0]>arr[1]:\n",
    "        return False\n",
    "    return issorted(arr[1:])\n",
    "\n",
    "l=[1,2,32,4,5,6]\n",
    "issorted(l)"
   ]
  },
  {
   "cell_type": "code",
   "execution_count": 18,
   "metadata": {},
   "outputs": [
    {
     "name": "stdout",
     "output_type": "stream",
     "text": [
      "6\n",
      "1 4 5 6 7 8\n",
      "31\n"
     ]
    }
   ],
   "source": [
    "#printing sum of array\n",
    "def sumArray(arr):\n",
    "    # Please add your code here\n",
    "    l=len(arr)\n",
    "    if l==1:\n",
    "        return arr[0]\n",
    "    return arr[l-1]+sumArray(arr[:l-1])\n",
    "    \n",
    "\n",
    "# Main\n",
    "from sys import setrecursionlimit\n",
    "setrecursionlimit(11000)\n",
    "n=int(input())\n",
    "arr=list(int(i) for i in input().strip().split(' '))\n",
    "print(sumArray(arr))\n"
   ]
  },
  {
   "cell_type": "code",
   "execution_count": 4,
   "metadata": {},
   "outputs": [
    {
     "name": "stdout",
     "output_type": "stream",
     "text": [
      "False\n"
     ]
    }
   ],
   "source": [
    "#checking list is sorted without creating list again and again\n",
    "def issorted(arr, si):\n",
    "    l=len(arr)\n",
    "    if si==l-1  or si==l:\n",
    "        return True\n",
    "    if arr[si]>arr[si+1]:\n",
    "        return False\n",
    "    return issorted(arr, si+1)\n",
    "\n",
    "arr=[1,2,6,4]\n",
    "print(issorted(arr,0))"
   ]
  },
  {
   "cell_type": "code",
   "execution_count": 10,
   "metadata": {},
   "outputs": [
    {
     "name": "stdout",
     "output_type": "stream",
     "text": [
      "1\n"
     ]
    }
   ],
   "source": [
    "#finding index of recurring element\n",
    "def recur(arr,x,si):\n",
    "    l=len(arr)\n",
    "    if arr[si]==x:\n",
    "        return si\n",
    "    if si==l-1:\n",
    "        return -1\n",
    "    return recur(arr,x,si+1)\n",
    "    \n",
    "arr=[2,3,4,5,6,4,5]\n",
    "x=3\n",
    "print(recur(arr,x,0)) "
   ]
  },
  {
   "cell_type": "code",
   "execution_count": 38,
   "metadata": {},
   "outputs": [
    {
     "name": "stdout",
     "output_type": "stream",
     "text": [
      "5\n",
      "2 3 4 3 2\n",
      "3\n",
      "1\n"
     ]
    }
   ],
   "source": [
    "#making changes in the same list\n",
    "\n",
    "def firstIndex(arr, x, si):\n",
    "    # Please add your code here\n",
    "    l=len(arr)\n",
    "    if arr[si]==x:\n",
    "        return si\n",
    "    if si==l:\n",
    "        return -1\n",
    "    return firstIndex(arr,x,si+1)\n",
    "\n",
    "# Main\n",
    "from sys import setrecursionlimit\n",
    "setrecursionlimit(11000)\n",
    "n=int(input())\n",
    "arr=list(int(i) for i in input().strip().split(' '))\n",
    "x=int(input())\n",
    "print(firstIndex(arr, x, 0))\n"
   ]
  },
  {
   "cell_type": "code",
   "execution_count": 37,
   "metadata": {},
   "outputs": [
    {
     "name": "stdout",
     "output_type": "stream",
     "text": [
      "5\n",
      "1 2 3 4 3\n",
      "7\n",
      "-1\n"
     ]
    }
   ],
   "source": [
    "#making copy of the list\n",
    "\n",
    "def firstIndex(arr, x):\n",
    "    # Please add your code here\n",
    "    l=len(arr)\n",
    "    if l==0:\n",
    "        return -1\n",
    "    if arr[0]==x:\n",
    "        return 0\n",
    "    k=firstIndex(arr[1:],x)\n",
    "    return -1 if k==-1 else k+1 \n",
    "\n",
    "# Main\n",
    "from sys import setrecursionlimit\n",
    "setrecursionlimit(11000)\n",
    "n=int(input())\n",
    "arr=list(int(i) for i in input().strip().split(' '))\n",
    "x=int(input())\n",
    "print(firstIndex(arr, x))"
   ]
  },
  {
   "cell_type": "code",
   "execution_count": 12,
   "metadata": {},
   "outputs": [
    {
     "name": "stdout",
     "output_type": "stream",
     "text": [
      "5\n",
      "2 4 5 3 6 7\n",
      "5\n",
      "2\n"
     ]
    }
   ],
   "source": [
    "## Read input as specified in the question.\n",
    "## Print output as specified in the question.\n",
    "def lastIndex(arr, x):\n",
    "    l=len(arr)\n",
    "    if l==0:\n",
    "        return -1\n",
    "    k=lastIndex(arr[1:], x)\n",
    "    if k==-1:\n",
    "        if arr[0]==x:\n",
    "            return 0\n",
    "        else:\n",
    "            return -1\n",
    "    else:\n",
    "        return k+1\n",
    "        \n",
    "n=input()\n",
    "arr=[i for i in input().split()]\n",
    "x=input()\n",
    "print(lastIndex(arr, x))"
   ]
  },
  {
   "cell_type": "code",
   "execution_count": 43,
   "metadata": {},
   "outputs": [
    {
     "name": "stdout",
     "output_type": "stream",
     "text": [
      "abcdxexrx\n",
      "a\n"
     ]
    }
   ],
   "source": [
    "# Problem: Remove x from string\n",
    "def removeX(string): \n",
    "    l=len(string)\n",
    "    if l==0:\n",
    "        return string\n",
    "    smallerString=removeX(string[1:])\n",
    "    if string[0]=='x':\n",
    "        return smallerString\n",
    "    else:\n",
    "        return string[0]\n",
    "\n",
    "# Main\n",
    "string = input()\n",
    "print(removeX(string))\n"
   ]
  },
  {
   "cell_type": "code",
   "execution_count": 7,
   "metadata": {},
   "outputs": [
    {
     "name": "stdout",
     "output_type": "stream",
     "text": [
      "axvxcxxdx\n",
      "avcd\n"
     ]
    }
   ],
   "source": [
    "# Problem: Remove x from string\n",
    "def removeX(string): \n",
    "    l=len(string)\n",
    "    if l==0:\n",
    "        return string\n",
    "    smallerString=removeX(string[1:])\n",
    "    if string[0]=='x':\n",
    "        return smallerString\n",
    "    else:\n",
    "        return string[0]+smallerString\n",
    "\n",
    "# Main\n",
    "string = input()\n",
    "print(removeX(string))\n"
   ]
  },
  {
   "cell_type": "code",
   "execution_count": 1,
   "metadata": {},
   "outputs": [
    {
     "name": "stdout",
     "output_type": "stream",
     "text": [
      "[]\n"
     ]
    }
   ],
   "source": [
    "l=[]\n",
    "print(l)"
   ]
  },
  {
   "cell_type": "code",
   "execution_count": 3,
   "metadata": {},
   "outputs": [
    {
     "name": "stdout",
     "output_type": "stream",
     "text": [
      "pa33.143.14343.14\n"
     ]
    }
   ],
   "source": [
    "#replacing pi with 3.14\n",
    "def replacepi(string):\n",
    "    if len(string)==0 or len(string)==1:\n",
    "        return string\n",
    "    if string[0]=='p' and string[1]=='i':\n",
    "        smallerstring=replacepi(string[2:])\n",
    "        return '3.14'+smallerstring\n",
    "    else:\n",
    "        smallerstring=replacepi(string[1:])\n",
    "        return string[0]+smallerstring\n",
    "\n",
    "print(replacepi('pa3pipi34pi'))"
   ]
  },
  {
   "cell_type": "code",
   "execution_count": 19,
   "metadata": {},
   "outputs": [
    {
     "name": "stdout",
     "output_type": "stream",
     "text": [
      "aaasdddddd\n",
      "asd\n"
     ]
    }
   ],
   "source": [
    "#replacing consicutive elements\n",
    "def removeConsecutiveDuplicates(string):\n",
    "    # Please add your code here\n",
    "    if len(string)==0 or len(string)==1:\n",
    "        return string\n",
    "    i=1\n",
    "    while i<len(string) and string[i]==string[0]:\n",
    "        i=i+1\n",
    "    smallerString=removeConsecutiveDuplicates(string[i:])\n",
    "    return string[0]+smallerString\n",
    "    \n",
    "\n",
    "# Main\n",
    "string = input().strip()\n",
    "print(removeConsecutiveDuplicates(string))\n"
   ]
  },
  {
   "cell_type": "code",
   "execution_count": 23,
   "metadata": {},
   "outputs": [
    {
     "name": "stdout",
     "output_type": "stream",
     "text": [
      "sssdddddjggggg\n",
      "sdjg\n"
     ]
    }
   ],
   "source": [
    "#replacing consicutive elements\n",
    "def removeConsecutiveDuplicates(string):\n",
    "    # Please add your code here\n",
    "    if len(string)==0 or len(string)==1:\n",
    "        return string\n",
    "    smallerString=removeConsecutiveDuplicates(string[1:])\n",
    "    if string[0]==smallerString[0]:\n",
    "        return smallerString\n",
    "    else:\n",
    "        return string[0]+smallerString\n",
    "\n",
    "# Main\n",
    "string = input().strip()\n",
    "print(removeConsecutiveDuplicates(string))\n"
   ]
  },
  {
   "cell_type": "code",
   "execution_count": 21,
   "metadata": {},
   "outputs": [
    {
     "data": {
      "text/plain": [
       "[1, 2, 3, 5, 7, 9, 13]"
      ]
     },
     "execution_count": 21,
     "metadata": {},
     "output_type": "execute_result"
    }
   ],
   "source": [
    "#mergesort\n",
    "def mergeSort(arr):\n",
    "    # Please add your code here\n",
    "    if len(arr)==0 or len(arr)==1:\n",
    "        return \n",
    "    mid=len(arr)//2\n",
    "    l1=arr[0:mid]\n",
    "    l2=arr[mid:]\n",
    "    mergeSort(l1)\n",
    "    mergeSort(l2)\n",
    "    merge(l1, l2, arr)\n",
    "\n",
    "def merge(l1,l2,arr):\n",
    "    i=0\n",
    "    j=0\n",
    "    k=0\n",
    "    while i<len(l1) and j<len(l2):\n",
    "        if l1[i]<l2[j]:\n",
    "            arr[k]=l1[i]\n",
    "            k=k+1\n",
    "            i=i+1\n",
    "        else:\n",
    "            arr[k]=l2[j]\n",
    "            k=k+1\n",
    "            j=j+1\n",
    "    while i<len(l1):\n",
    "        arr[k]=l1[i]\n",
    "        k=k+1\n",
    "        i=i+1\n",
    "    while j<len(l2):\n",
    "        arr[k]=l2[j]\n",
    "        k=k+1\n",
    "        j=j+1\n",
    "\n",
    "arr=[3,5,13,7,2,1,9]\n",
    "mergeSort(arr)\n",
    "arr"
   ]
  },
  {
   "cell_type": "code",
   "execution_count": null,
   "metadata": {},
   "outputs": [
    {
     "name": "stdout",
     "output_type": "stream",
     "text": [
      "919\n",
      "4325 3416 1061 4007 4217 3298 4250 1636 1107 4118 1632 1230 2571 1352 3407 1874 4381 3429 4094 1334 451 2698 986 732 3170 866 4364 1034 960 539 3692 3656 4579 3520 1564 49 297 3871 4215 3457 1830 4332 3995 183 3594 3595 336 2581 628 4109 1367 1726 314 527 3544 4123 2857 2667 1343 4123 1314 3844 3333 1707 2875 770 4703 4139 988 4746 4632 4563 2892 779 4716 1006 4078 1372 2061 414 205 156 2511 4258 3073 2259 950 8 275 3258 1542 1231 3291 1871 1312 3392 914 3049 435 2458 4041 2989 2217 4292 4086 678 4800 4421 491 1996 246 176 3057 2044 4827 397 2120 4342 1988 1862 3924 1786 1719 1348 4876 3721 1744 2763 1763 1355 2287 106 436 4753 1905 4113 2893 4058 2278 3297 2178 195 4677 3784 1031 1260 236 1754 3753 4982 105 2530 1319 143 4984 1367 2390 610 1582 2753 2492 4668 1022 2614 304 4673 1291 1159 3689 2684 2430 3223 3838 1568 4255 2872 3647 3310 2065 4717 1228 1660 965 883 1310 17 4150 4780 1100 2451 4743 908 3074 1072 4538 3699 99 1523 1315 3021 3196 246 4249 4332 4269 2300 4256 2640 113 1948 3075 1337 55 4911 1270 4740 2669 1203 1325 1626 2076 692 2484 1362 1518 122 4028 4277 1024 107 3206 3786 2191 3783 3168 4369 1344 126 4827 1961 2589 4681 4745 1458 4547 3350 3821 30 3913 1156 3756 4686 306 2406 29 3062 267 1459 1391 2720 3701 4414 1664 1330 3454 1366 23 3013 3254 1539 735 4732 710 4505 2803 1106 616 4939 3829 1209 4389 798 924 1931 4053 623 4443 4254 3837 4683 2881 1361 4094 2015 4304 853 976 1031 1277 2449 988 254 2376 2473 2346 2902 4011 2115 4823 4520 1484 2921 1596 1570 2892 217 467 920 3760 3199 2706 468 4023 4259 685 4714 2341 4674 414 955 489 4190 2071 1919 3016 3185 621 4079 4193 3019 4673 2584 761 2918 4771 3744 4895 230 2445 4258 2357 161 3463 2931 766 1207 2892 446 2530 3268 791 889 1032 2146 549 79 2299 1449 2182 466 2523 1181 168 297 4490 1222 4715 973 3186 2684 1742 1068 2582 628 191 3248 1887 2983 746 1426 353 2558 2454 4840 64 1948 3225 3384 997 4781 1713 4457 2051 1178 1598 775 669 540 4870 1098 2134 769 3327 1586 2630 4793 2114 4528 2656 2871 812 3552 4461 2452 1275 1 3749 1516 2141 4057 2008 1231 2700 1402 1490 4435 3594 1607 21 2932 3653 3208 2563 3843 1002 2444 666 3278 2488 2924 4736 4409 3360 2050 2358 1637 4107 1928 3723 2884 3319 2597 2609 3239 4452 3852 3245 108 425 3631 4816 2720 3030 937 1353 2382 4253 4506 203 4115 3740 8 2345 405 794 3374 2343 3618 490 977 4819 268 1741 3751 2957 2736 365 2050 2696 2219 2544 958 3929 662 3350 2030 2280 4174 1367 1952 1730 972 3863 1382 4661 3190 2316 3359 1696 4004 600 4979 4030 4390 2586 3719 840 2497 2437 678 3733 3040 4388 2244 4155 4357 4419 4140 3114 1766 3789 2615 585 2632 4056 1553 4479 1133 4858 1616 1117 4054 4456 3175 737 3049 3719 3616 2677 3744 2040 1846 534 2724 3422 3218 2772 4919 2834 1887 3959 1163 1735 4575 1081 3718 2613 46 3120 1395 248 2185 417 463 2376 1393 3170 2937 4421 4190 770 4994 1929 4337 601 191 444 456 1356 4886 559 167 1854 1767 1047 3984 1884 1671 70 3776 1585 3939 3635 433 453 1404 1679 3481 1136 2720 375 1776 1804 2171 4516 4101 4040 264 1124 1402 844 2387 4754 3701 1614 2583 1311 4165 2637 4981 593 663 2966 1790 3163 1201 1317 3816 4636 3987 4980 2350 4907 515 1601 4949 1383 996 4091 2046 3811 646 2845 1557 3856 2846 2923 4656 211 941 1837 2659 4620 4503 1102 2543 895 3208 1778 1948 2682 2090 814 3643 1464 808 1116 4360 4046 1783 3917 3562 3571 2447 2206 4204 4908 648 3684 4775 4143 4223 963 4970 2752 1082 485 1121 4979 4698 4966 2143 1862 1779 1980 2094 2354 4038 3691 1643 979 4370 4630 2638 2495 4508 825 2720 2135 1148 4609 414 73 851 4846 406 899 551 2418 3785 3081 337 313 3884 4539 3288 1771 4957 3730 3522 3557 3353 871 3301 4575 4033 1238 2999 2716 4249 1778 3940 67 931 3649 3676 3302 3917 1664 1036 2422 3391 2049 4368 1740 2080 2350 771 2403 555 1825 1729 582 2703 2153 1504 4863 2830 1824 3832 319 1101 3168 4972 175 14 3560 1901 4003 1386 1992 3513 3894 904 3841 5 2098 609 404 1235 234 3863 438 3742 1273 2178 3755 3281 1155 4061 1688 188 2065 2418 1058 3607 4146 4374 2150 2663 1605 359 2056 2922 3013 3148 2696 87 3853 2106 2744 4723 2231 3319 4669 1965 1030 2379 2130 3553 1688 3598 3978 1286 1191 2088 4204 924 4884 3697 2271 3876 3125 2020 402 538 4899 1822 3557 3973 1028 4003 4044 742 3693 3903 904 2090 2643 2130 4515 3352 1564 282 4100 2415 802 2911 189 4277 4826 1837 402 3312 4564 4420 340 2586 1019 3758 1744 695 2388 819 2566 943 2220 1454 3051 306 1044 4829 3453 1565 3280 4309 2520 1199 184 \n"
     ]
    }
   ],
   "source": [
    "#Quick Sort O(nlogn)\n",
    "def quickSort(arr, si, ei):\n",
    "    # Please add your code here\n",
    "    if si>=ei:\n",
    "        return\n",
    "    p=partition(arr, si, ei)\n",
    "    quickSort(arr, 0, p-1)\n",
    "    quickSort(arr, p+1, ei)\n",
    "    \n",
    "    \n",
    "    \n",
    "def partition(arr, si, ei):\n",
    "    count=0\n",
    "    p=arr[si]\n",
    "    for i in range(si, ei+1):\n",
    "        if arr[i]<p:\n",
    "            count=count+1\n",
    "    q=si+count\n",
    "    arr[q],arr[si]=arr[si],arr[q]\n",
    "    \n",
    "    i=si\n",
    "    j=ei\n",
    "    while i<q and j>q:\n",
    "        if arr[i]<arr[q]:\n",
    "            i=i+1\n",
    "        elif arr[j]>=arr[q]:\n",
    "            j=j-1\n",
    "        else:\n",
    "            arr[i],arr[j]=arr[j],arr[i]\n",
    "            i=i+1\n",
    "            j=j-1\n",
    "            \n",
    "    return q\n",
    "\n",
    "n=int(input())\n",
    "arr=list(int(i) for i in input().strip().split(' '))\n",
    "quickSort(arr, 0, len(arr)-1)\n",
    "print(*arr)\n"
   ]
  },
  {
   "cell_type": "code",
   "execution_count": 58,
   "metadata": {},
   "outputs": [
    {
     "name": "stdout",
     "output_type": "stream",
     "text": [
      "248\n",
      "1138 3340 442 3752 2639 4312 1 3525 223 2036 243 3195 4622 2533 4748 4824 4259 2394 4450 481 597 3574 3734 3486 4043 2716 3727 3735 2761 1911 1827 847 3732 2967 3857 96 4417 682 2157 2976 4412 2301 4351 1982 4545 352 3469 2724 993 4288 633 714 4107 2947 1501 279 804 4630 2252 3878 591 4755 4953 1716 3511 2388 801 3989 3534 1661 2846 1245 3257 2023 2500 2330 43 2517 1364 4159 125 4770 1612 3046 558 2221 4474 3672 4328 4140 2161 3854 1371 2402 3898 1143 2738 1582 1619 961 1638 3880 258 398 3643 4591 1518 2034 3907 1303 3450 3127 1852 794 1171 2325 3405 1630 1576 3574 2542 2804 1952 299 2588 4366 3990 1999 3451 4876 813 360 3714 2707 276 2630 1327 3645 2991 1518 3434 1009 3230 3077 4734 1488 96 2112 4665 236 158 3436 1608 2292 1008 1908 2242 4307 3061 4548 1194 662 4297 4203 99 1492 4508 1148 1236 1859 2084 1757 4003 1266 2293 1856 2548 996 1551 1657 62 3299 2155 4255 4351 1283 1535 473 546 1466 4166 4519 6 2353 2894 2283 4748 2058 4569 2306 4011 957 2594 3435 3902 1593 1157 2903 2402 2558 2708 4130 412 895 1494 4837 4930 3618 1755 3175 2887 3341 4559 2425 3654 602 2090 3513 4752 1448 2612 3988 3808 2994 3275 2365 414 2200 1363 2702 4093 3852 2618 1093 4270 2780 2750 3305\n",
      "1 6 43 62 96 96 99 125 158 223 236 243 258 276 279 299 352 360 398 412 414 442 473 481 546 558 591 597 602 633 662 682 714 794 801 804 813 847 895 957 961 993 996 1008 1009 1093 1138 1143 1148 1157 1171 1194 1236 1245 1266 1283 1303 1327 1363 1364 1371 1448 1466 1488 1492 1494 1501 1518 1518 1535 1551 1576 1582 1593 1608 1612 1619 1630 1638 1657 1661 1716 1755 1757 1827 1852 1856 1859 1908 1911 1952 1982 1999 2023 2034 2036 2058 2084 2090 2112 2155 2157 2161 2200 2221 2242 2252 2283 2292 2293 2301 2306 2325 2330 2353 2365 2388 2394 2402 2402 2425 2500 2517 2533 2542 2548 2558 2588 2594 2612 2618 2630 2639 2702 2707 2708 2716 2724 2738 2750 2761 2780 2804 2846 2887 2894 2903 2947 2967 2976 2991 2994 3046 3061 3077 3127 3175 3195 3230 3257 3275 3299 3305 3340 3341 3405 3434 3435 3436 3450 3451 3469 3486 3511 3513 3525 3534 3574 3574 3618 3643 3645 3654 3672 3714 3727 3732 3734 3735 3752 3808 3852 3854 3857 3878 3880 3898 3902 3907 3988 3989 3990 4003 4011 4043 4093 4107 4130 4140 4159 4166 4203 4255 4259 4270 4288 4297 4307 4312 4328 4351 4351 4366 4412 4417 4450 4474 4508 4519 4545 4548 4559 4569 4591 4622 4630 4665 4734 4748 4748 4752 4755 4770 4824 4837 4876 4930 4953\n"
     ]
    }
   ],
   "source": [
    "def mergeSort(arr):\n",
    "    # Please add your code here\n",
    "    if len(arr)==0 or len(arr)==1:\n",
    "        return \n",
    "    mid=len(arr)//2\n",
    "    l1=arr[0:mid]\n",
    "    l2=arr[mid:]\n",
    "    mergeSort(l1)\n",
    "    mergeSort(l2)\n",
    "    merge(l1, l2, arr)\n",
    "\n",
    "def merge(l1,l2,arr):\n",
    "    i=0\n",
    "    j=0\n",
    "    k=0\n",
    "    while i<len(l1) and j<len(l2):\n",
    "        if l1[i]<l2[j]:\n",
    "            arr[k]=l1[i]\n",
    "            k=k+1\n",
    "            i=i+1\n",
    "        else:\n",
    "            arr[k]=l2[j]\n",
    "            k=k+1\n",
    "            j=j+1\n",
    "    while i<len(l1):\n",
    "        arr[k]=l1[i]\n",
    "        k=k+1\n",
    "        i=i+1\n",
    "    while j<len(l2):\n",
    "        arr[k]=l2[j]\n",
    "        k=k+1\n",
    "        j=j+1\n",
    "\n",
    "    \n",
    "# Main\n",
    "n=int(input())\n",
    "arr=list(int(i) for i in input().strip().split(' '))\n",
    "mergeSort(arr)\n",
    "print(*arr)\n"
   ]
  },
  {
   "cell_type": "code",
   "execution_count": 1,
   "metadata": {},
   "outputs": [
    {
     "name": "stdout",
     "output_type": "stream",
     "text": [
      "4\n",
      "a b\n",
      "a c\n",
      "b c\n",
      "a b\n",
      "c a\n",
      "c b\n",
      "a b\n",
      "a c\n",
      "b c\n",
      "b a\n",
      "c a\n",
      "b c\n",
      "a b\n",
      "a c\n",
      "b c\n"
     ]
    }
   ],
   "source": [
    "#Tower of hanoi \n",
    "def towerofhanoi(n, source, aux, dest):\n",
    "    # Please add your code here\n",
    "    if n==0:\n",
    "        return\n",
    "    \n",
    "    towerofhanoi(n-1, source, dest, aux)\n",
    "    print(source, dest)\n",
    "    towerofhanoi(n-1, aux, source, dest)\n",
    "    \n",
    "\n",
    "\n",
    "n=int(input())\n",
    "source='a'\n",
    "aux='b'\n",
    "dest='c'\n",
    "towerofhanoi(n, source, aux, dest)\n"
   ]
  },
  {
   "cell_type": "code",
   "execution_count": 106,
   "metadata": {},
   "outputs": [
    {
     "name": "stdout",
     "output_type": "stream",
     "text": [
      "3\n",
      "1.87500\n"
     ]
    }
   ],
   "source": [
    "#finding sum of a gp of a series\n",
    "\n",
    "def geo(k):\n",
    "    if k==0:\n",
    "        return 1.00000\n",
    "    return geo(k-1)+(1/2**k)\n",
    "\n",
    "n=int(input())\n",
    "sum=geo(n)\n",
    "\n",
    "import decimal\n",
    "x=decimal.Decimal(format(sum, '.5f'))\n",
    "print(x)\n",
    "\n"
   ]
  },
  {
   "cell_type": "code",
   "execution_count": 113,
   "metadata": {},
   "outputs": [
    {
     "name": "stdout",
     "output_type": "stream",
     "text": [
      "ninja\n",
      "False\n"
     ]
    }
   ],
   "source": [
    "#checking if the string is palindrome or not\n",
    "\n",
    "def palindrome(s):\n",
    "    l=len(s)\n",
    "    if l==1 or l==0:\n",
    "        return True\n",
    "    if s[0]!=s[l-1]:\n",
    "        return False\n",
    "    return palindrome(s[1:l-1])\n",
    "        \n",
    "    \n",
    "s=input()\n",
    "if palindrome(s):\n",
    "    print('true')\n",
    "else:\n",
    "    print('false')"
   ]
  },
  {
   "cell_type": "code",
   "execution_count": 115,
   "metadata": {},
   "outputs": [
    {
     "name": "stdout",
     "output_type": "stream",
     "text": [
      "2345\n",
      "14\n"
     ]
    }
   ],
   "source": [
    "#sum of an integer\n",
    "\n",
    "def sum(s):\n",
    "    if len(s)==1:\n",
    "        return int(s[0])\n",
    "    return int(s[0])+int(sum(s[1:]))\n",
    "\n",
    "s=input()\n",
    "print(sum(s))"
   ]
  },
  {
   "cell_type": "code",
   "execution_count": 122,
   "metadata": {},
   "outputs": [
    {
     "name": "stdout",
     "output_type": "stream",
     "text": [
      "12345\n",
      "15\n"
     ]
    }
   ],
   "source": [
    "#sum of an integer\n",
    "def sum(n):\n",
    "    if n<=9:\n",
    "        return n\n",
    "    return sum(n//10)+n%10\n",
    "\n",
    "n=int(input())\n",
    "print(sum(n))"
   ]
  },
  {
   "cell_type": "code",
   "execution_count": 23,
   "metadata": {},
   "outputs": [
    {
     "name": "stdout",
     "output_type": "stream",
     "text": [
      "5\n",
      "6\n",
      "30\n"
     ]
    }
   ],
   "source": [
    "#multiplying without *\n",
    "def mul(m,n):\n",
    "    if n==0 or m==0:\n",
    "        return 0\n",
    "    if n>0:\n",
    "        a=mul(m,n-1)\n",
    "        return m+a\n",
    "    else:\n",
    "        a=mul(m,n+1)\n",
    "        return a-m\n",
    "\n",
    "m=int(input())\n",
    "n=int(input())\n",
    "print(mul(m,n))\n",
    "\n"
   ]
  },
  {
   "cell_type": "code",
   "execution_count": 24,
   "metadata": {},
   "outputs": [
    {
     "name": "stdout",
     "output_type": "stream",
     "text": [
      "12040040\n",
      "4\n"
     ]
    }
   ],
   "source": [
    "#counting no of zeros\n",
    "def countZero(n):\n",
    "    if n==0:\n",
    "        return 0\n",
    "    \n",
    "    \n",
    "    if n%10==0:\n",
    "        return countZero(n//10)+1\n",
    "    else:\n",
    "        return countZero(n//10)\n",
    "    \n",
    "    \n",
    "n=int(input())\n",
    "print(countZero(n))"
   ]
  },
  {
   "cell_type": "code",
   "execution_count": 151,
   "metadata": {},
   "outputs": [
    {
     "name": "stdout",
     "output_type": "stream",
     "text": [
      "12345\n",
      "12345\n"
     ]
    }
   ],
   "source": [
    "#coverting string into int\n",
    "def string(s):\n",
    "    l=len(s)\n",
    "    if l==1:\n",
    "        return s[0]\n",
    "    return (int(s[0])*(10**(l-1)))+int(string(s[1:]))\n",
    "\n",
    "s=input()\n",
    "print(string(s))"
   ]
  },
  {
   "cell_type": "code",
   "execution_count": 9,
   "metadata": {},
   "outputs": [
    {
     "name": "stdout",
     "output_type": "stream",
     "text": [
      "aaaaa\n",
      "a*a*a*a*a\n"
     ]
    }
   ],
   "source": [
    "def star(s):\n",
    "    l=len(s)\n",
    "    if l==1:\n",
    "        return s[0]\n",
    "    smallString=star(s[1:])\n",
    "    if s[0]==smallString[0]:\n",
    "        return s[0]+'*'+smallString\n",
    "    else:\n",
    "        return s[0]+smallString\n",
    "    \n",
    "    \n",
    "s=input()\n",
    "print(star(s))"
   ]
  },
  {
   "cell_type": "code",
   "execution_count": 25,
   "metadata": {},
   "outputs": [
    {
     "name": "stdout",
     "output_type": "stream",
     "text": [
      "4\n",
      "7\n"
     ]
    }
   ],
   "source": [
    "#No of steps needed\n",
    "def stairs(n):\n",
    "    if n<0:\n",
    "        return 0\n",
    "    if n==0:\n",
    "        return 1\n",
    "    x=stairs(n-1)\n",
    "    y=stairs(n-2)\n",
    "    z=stairs(n-3)\n",
    "    return x+y+z\n",
    "\n",
    "\n",
    "n=int(input())\n",
    "print(stairs(n))"
   ]
  },
  {
   "cell_type": "code",
   "execution_count": 26,
   "metadata": {},
   "outputs": [
    {
     "name": "stdout",
     "output_type": "stream",
     "text": [
      "abbaabb\n",
      "false\n"
     ]
    }
   ],
   "source": [
    "def check(s):\n",
    "    l=len(s)\n",
    "    if l==0:\n",
    "        return True\n",
    "    \n",
    "    \n",
    "    if s[0]=='a':\n",
    "        if s[1]=='a':\n",
    "            return check(s[1:])\n",
    "        elif s[1]=='b':\n",
    "            if s[2]=='b':\n",
    "                return check(s[3:])\n",
    "            else: \n",
    "                return False\n",
    "        else:\n",
    "            return False\n",
    "        \n",
    "    else:\n",
    "        return False\n",
    "    \n",
    "s=input()\n",
    "if check(s):\n",
    "    print('true')\n",
    "else:\n",
    "    print('false')"
   ]
  },
  {
   "cell_type": "code",
   "execution_count": 2,
   "metadata": {},
   "outputs": [
    {
     "name": "stdout",
     "output_type": "stream",
     "text": [
      "1234\n",
      "['', '4', '3', '34', '2', '24', '23', '234', '1', '14', '13', '134', '12', '124', '123', '1234']\n"
     ]
    }
   ],
   "source": [
    "#Return all the Subsequence\n",
    "\n",
    "def subsequences(string):\n",
    "    #base case\n",
    "    if string=='':\n",
    "        return ['']\n",
    "    ans=subsequences(string[1:])\n",
    "    curr=string[0]\n",
    "    l=len(ans)\n",
    "    for i in range(0,l):\n",
    "        ans.append(curr+ans[i])\n",
    "    return ans\n",
    "\n",
    "#main\n",
    "string = input()\n",
    "ans = subsequences(string)\n",
    "print(ans)\n"
   ]
  },
  {
   "cell_type": "code",
   "execution_count": 18,
   "metadata": {},
   "outputs": [
    {
     "name": "stdout",
     "output_type": "stream",
     "text": [
      "23\n",
      "ad\n",
      "bd\n",
      "cd\n",
      "ae\n",
      "be\n",
      "ce\n",
      "af\n",
      "bf\n",
      "cf\n"
     ]
    }
   ],
   "source": [
    "# return all the possible phone keypad combination\n",
    "\n",
    "def keypad(n,d):\n",
    "    #base case\n",
    "    if n==0:\n",
    "        return [\"\"]\n",
    "    \n",
    "    ans=keypad(n//10,d)\n",
    "    currStr=d[n%10]\n",
    "    l=len(ans)\n",
    "    output=[]\n",
    "    for ele in currStr:\n",
    "        for j in range(0,l):\n",
    "            output.append(ans[j]+ele)\n",
    "    return output\n",
    "\n",
    "n = int(input())\n",
    "d={2:'abc', 3:'def', 4:'ghi', 5:'jkl', 6:'mno', 7:'pqrs', 8:'tuv', 9:'wxyz'}\n",
    "ans = keypad(n,d)\n",
    "for s in ans:\n",
    "    print(s)"
   ]
  },
  {
   "cell_type": "code",
   "execution_count": 1,
   "metadata": {},
   "outputs": [
    {
     "name": "stdout",
     "output_type": "stream",
     "text": [
      "abc\n",
      "abc\n",
      "ab\n",
      "ac\n",
      "a\n",
      "bc\n",
      "b\n",
      "c\n",
      "\n"
     ]
    }
   ],
   "source": [
    "#print all the subsequences\n",
    "\n",
    "def subsequences(string,out):\n",
    "    #base case\n",
    "    if len(string)==0:\n",
    "        print(out)\n",
    "        return\n",
    "    \n",
    "    subsequences(string[1:], out+string[0])\n",
    "    subsequences(string[1:], out)\n",
    "    \n",
    "#main\n",
    "string=input()\n",
    "subsequences(string,'')\n",
    "    "
   ]
  },
  {
   "cell_type": "code",
   "execution_count": 6,
   "metadata": {},
   "outputs": [
    {
     "name": "stdout",
     "output_type": "stream",
     "text": [
      "34\n",
      "dg\n",
      "eg\n",
      "fg\n",
      "dh\n",
      "eh\n",
      "fh\n",
      "di\n",
      "ei\n",
      "fi\n"
     ]
    }
   ],
   "source": [
    "# print all the possible phone keypad combination\n",
    "\n",
    "\n",
    "def keyPad(num,out,d):\n",
    "    #base case\n",
    "    if num==0:\n",
    "        print(out)\n",
    "        return\n",
    "    \n",
    "    currNum=num%10\n",
    "    remainingNum=num//10\n",
    "    for ele in d[currNum]:\n",
    "        keyPad(remainingNum,ele+out,d)\n",
    "        \n",
    "#main\n",
    "num=int(input())\n",
    "d={2:'abc', 3:'def', 4:'ghi', 5:'jkl', 6:'mno', 7:'pqrs', 8:'tuv', 9:'wxyz'}\n",
    "keyPad(num,'',d)\n",
    "        "
   ]
  },
  {
   "cell_type": "code",
   "execution_count": 8,
   "metadata": {},
   "outputs": [
    {
     "name": "stdout",
     "output_type": "stream",
     "text": [
      "3\n",
      "2 3 4\n",
      "\n",
      "4 \n",
      "3 \n",
      "3 4 \n",
      "2 \n",
      "2 4 \n",
      "2 3 \n",
      "2 3 4 \n"
     ]
    }
   ],
   "source": [
    "#return all the subsets of the array\n",
    "\n",
    "def subsets(arr):\n",
    "    #base case:\n",
    "    if len(arr)==0:\n",
    "        return [\"\"]\n",
    "    \n",
    "    ans=subsets(arr[1:])\n",
    "    l=len(ans)\n",
    "    for i in range(0,l):\n",
    "        ans.append(arr[0]+\" \"+ans[i])\n",
    "    return ans\n",
    "\n",
    "#main\n",
    "n=int(input())\n",
    "arr=[i for i in input().split()]\n",
    "ans=subsets(arr)\n",
    "for i in ans:\n",
    "    print(i)"
   ]
  },
  {
   "cell_type": "code",
   "execution_count": 20,
   "metadata": {},
   "outputs": [
    {
     "name": "stdout",
     "output_type": "stream",
     "text": [
      "abb\n",
      "abb\n",
      "abb\n",
      "bab\n",
      "bba\n",
      "bab\n",
      "bba\n"
     ]
    }
   ],
   "source": [
    "#return permutation of a string\n",
    "\n",
    "def permutation(Op,Ip):\n",
    "    #base case\n",
    "    if len(Ip)==0:\n",
    "        print(Op)\n",
    "        return\n",
    "    \n",
    "    for i in range(0,len(Ip)):\n",
    "        newOp=Op+Ip[i]\n",
    "        newIp=''.join([Ip[ele] for ele in range(0,len(Ip)) if ele!=i])\n",
    "        permutation(newOp,newIp)\n",
    "        \n",
    "#main\n",
    "Ip=input()\n",
    "permutation('',Ip)"
   ]
  },
  {
   "cell_type": "code",
   "execution_count": 40,
   "metadata": {},
   "outputs": [
    {
     "name": "stdout",
     "output_type": "stream",
     "text": [
      "3\n",
      "1 2 3\n",
      "\n",
      "3 \n",
      "2 \n",
      "2 3 \n",
      "1 \n",
      "1 3 \n",
      "1 2 \n",
      "1 2 3 \n"
     ]
    }
   ],
   "source": [
    "#Return subset of an array\n",
    "\n",
    "def subset(arr):\n",
    "    #base case\n",
    "    if len(arr)==0:\n",
    "        return ['']\n",
    "    \n",
    "    ans=subset(arr[1:])\n",
    "    l=len(ans)\n",
    "    for i in range(0,l):\n",
    "        ans.append(arr[0]+' '+ans[i])\n",
    "    return ans\n",
    "\n",
    "\n",
    "#main\n",
    "n=int(input())\n",
    "arr=[i for i in input().split()]\n",
    "result=subset(arr)\n",
    "for j in result:\n",
    "    print(j)"
   ]
  },
  {
   "cell_type": "code",
   "execution_count": 8,
   "metadata": {},
   "outputs": [
    {
     "name": "stdout",
     "output_type": "stream",
     "text": [
      "3\n",
      "1 2 3\n",
      "1 2 3\n",
      "1 2\n",
      "1 3\n",
      "1\n",
      "2 3\n",
      "2\n",
      "3\n",
      "\n"
     ]
    }
   ],
   "source": [
    "#print all the subset of input array\n",
    "def subsets(ip,op,n):\n",
    "    #base case\n",
    "    if len(ip)==0:\n",
    "        print(op)\n",
    "        return\n",
    "    if op=='':\n",
    "        subsets(ip[1:n],op+ip[0],n)\n",
    "    else:    \n",
    "        subsets(ip[1:n],op+' '+ip[0],n)\n",
    "    subsets(ip[1:n],op,n)\n",
    "    return\n",
    "    \n",
    "n=int(input())\n",
    "ip=[i for i in input().split()]\n",
    "subsets(ip,'',n)"
   ]
  },
  {
   "cell_type": "code",
   "execution_count": 21,
   "metadata": {},
   "outputs": [
    {
     "name": "stdout",
     "output_type": "stream",
     "text": [
      "4\n",
      "2 4 1 5\n",
      "5\n",
      "4 1\n",
      "5\n"
     ]
    }
   ],
   "source": [
    "#Print Subset Sum to K\n",
    "\n",
    "def subsetSum(arr,k,n,op):\n",
    "    #base case\n",
    "    if len(arr)==0:\n",
    "        if k==0:\n",
    "            print(*op)\n",
    "        else:\n",
    "            pass\n",
    "        return\n",
    "    \n",
    "    newOp=[]\n",
    "    newOp=newOp+op\n",
    "    newOp.append(arr[0])\n",
    "    subsetSum(arr[1:n],k-arr[0],n,newOp)\n",
    "    subsetSum(arr[1:n],k,n,op)\n",
    "    return\n",
    "    \n",
    "    \n",
    "#main\n",
    "n=int(input())\n",
    "arr=[int(i) for i in input().split()]\n",
    "k=int(input())\n",
    "subsetSum(arr,k,n,[])\n"
   ]
  },
  {
   "cell_type": "code",
   "execution_count": 36,
   "metadata": {},
   "outputs": [
    {
     "name": "stdout",
     "output_type": "stream",
     "text": [
      "9\n",
      "5 12 3 17 1 18 15 3 17 \n",
      "6\n",
      "5 1\n",
      "3 3\n"
     ]
    }
   ],
   "source": [
    "#Return subsets sum to K\n",
    "def subsetSum(arr,k):\n",
    "    #base case:\n",
    "    if len(arr)==0:\n",
    "        if k==0:\n",
    "            return [[]]\n",
    "        else:\n",
    "            return []\n",
    "    \n",
    "    op1=subsetSum(arr[1:],k-arr[0])\n",
    "    for i in op1:\n",
    "        i.insert(0,arr[0])\n",
    "    op2=subsetSum(arr[1:],k)\n",
    "    return op1+op2\n",
    "\n",
    "#main\n",
    "n=int(input())\n",
    "arr=[int(i) for i in input().split()]\n",
    "k=int(input())\n",
    "result=subsetSum(arr,k)\n",
    "for i in result:\n",
    "    print(*i)\n"
   ]
  },
  {
   "cell_type": "code",
   "execution_count": 37,
   "metadata": {},
   "outputs": [
    {
     "name": "stdout",
     "output_type": "stream",
     "text": [
      "abc\n",
      "abc\n",
      "acb\n",
      "bac\n",
      "bca\n",
      "cab\n",
      "cba\n"
     ]
    }
   ],
   "source": [
    "###### Return Permutations of a String\n",
    "\n",
    "def stringPermutation(string):\n",
    "    #base case:\n",
    "    if len(string)==1:\n",
    "        return [string[0]]\n",
    "    op=[]\n",
    "    for i in range(0,len(string)):\n",
    "        \n",
    "        smallString=[ele for ele in string]\n",
    "        smallString.pop(i)\n",
    "        smallString=''.join(smallString)\n",
    "        firstLetter=string[i]\n",
    "        smallPermutation=stringPermutation(smallString)\n",
    "        for k in smallPermutation:\n",
    "            op.append(firstLetter+k)\n",
    "        \n",
    "    return op\n",
    "\n",
    "#main\n",
    "string=input()\n",
    "result=stringPermutation(string)\n",
    "for i in result:\n",
    "    print(i)"
   ]
  },
  {
   "cell_type": "code",
   "execution_count": null,
   "metadata": {},
   "outputs": [],
   "source": []
  }
 ],
 "metadata": {
  "kernelspec": {
   "display_name": "Python 3",
   "language": "python",
   "name": "python3"
  },
  "language_info": {
   "codemirror_mode": {
    "name": "ipython",
    "version": 3
   },
   "file_extension": ".py",
   "mimetype": "text/x-python",
   "name": "python",
   "nbconvert_exporter": "python",
   "pygments_lexer": "ipython3",
   "version": "3.7.4"
  }
 },
 "nbformat": 4,
 "nbformat_minor": 2
}
