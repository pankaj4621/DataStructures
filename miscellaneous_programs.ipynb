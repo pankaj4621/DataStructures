{
 "cells": [
  {
   "cell_type": "code",
   "execution_count": 5,
   "metadata": {},
   "outputs": [
    {
     "name": "stdout",
     "output_type": "stream",
     "text": [
      "4\n",
      "1 2 3 4\n",
      "5\n",
      "3 4 5 6 7\n",
      "3\n",
      "4\n"
     ]
    }
   ],
   "source": [
    "#intersection of 2 arrays\n",
    "def intersection(l1, l2):\n",
    "    i=0\n",
    "    j=0\n",
    "    while i<len(l1) and j<len(l2):\n",
    "        if l1[i]<l2[j]:\n",
    "            i=i+1\n",
    "        elif l1[i]>l2[j]:\n",
    "            j=j+1\n",
    "        else:\n",
    "            print(l1[i])\n",
    "            i=i+1\n",
    "            j=j+1\n",
    "#merge sort function\n",
    "def merge_sort(arr):\n",
    "    if len(arr)<=1:\n",
    "        return \n",
    "    mid=len(arr)//2\n",
    "    l1=arr[0:mid]\n",
    "    l2=arr[mid:]\n",
    "    merge_sort(l1)\n",
    "    merge_sort(l2)\n",
    "    merging(arr, l1, l2)\n",
    "    \n",
    "def merging(arr, l1, l2):\n",
    "    i=0\n",
    "    j=0\n",
    "    k=0\n",
    "    while i<len(l1) and j<len(l2):\n",
    "        if l1[i]<l2[j]:\n",
    "            arr[k]=l1[i]\n",
    "            i=i+1\n",
    "            k=k+1\n",
    "        else:\n",
    "            arr[k]=l2[j]\n",
    "            j=j+1\n",
    "            k=k+1\n",
    "            \n",
    "    while i<len(l1):\n",
    "        arr[k]=l1[i]\n",
    "        k=k+1\n",
    "        i=i+1\n",
    "    while j<len(l2):\n",
    "        arr[k]=l2[j]\n",
    "        k=k+1\n",
    "        j=j+1 \n",
    "            \n",
    "p=int(input())\n",
    "l1=[int(i) for i in input().split()]\n",
    "q=int(input())\n",
    "l2=[int(i) for i in input().split()]\n",
    "merge_sort(l1)\n",
    "merge_sort(l2)\n",
    "intersection(l1,l2)\n",
    "            "
   ]
  },
  {
   "cell_type": "code",
   "execution_count": 6,
   "metadata": {},
   "outputs": [
    {
     "name": "stdout",
     "output_type": "stream",
     "text": [
      "7\n",
      "12 3 2 3 5 1 1\n",
      "1\n"
     ]
    }
   ],
   "source": [
    "#findind equibliriumm index\n",
    "def equi(arr):\n",
    "    i=0\n",
    "    j=len(arr)-1\n",
    "    ls=arr[i]\n",
    "    rs=arr[j]\n",
    "    while i<j:\n",
    "        if ls<rs:\n",
    "            ls=ls+arr[i+1]\n",
    "            i=i+1\n",
    "        else:\n",
    "            rs=rs+arr[j-1]\n",
    "            j=j-1\n",
    "            \n",
    "    if i==j:\n",
    "        if ls==rs:\n",
    "            print(i)\n",
    "        else:\n",
    "            print('-1')\n",
    "        \n",
    "n=int(input())        \n",
    "arr=[int(i) for i in input().split()]\n",
    "equi(arr)"
   ]
  },
  {
   "cell_type": "code",
   "execution_count": 9,
   "metadata": {},
   "outputs": [
    {
     "name": "stdout",
     "output_type": "stream",
     "text": [
      "7\n",
      "2 5 8 1 3 6 10\n",
      "4\n"
     ]
    }
   ],
   "source": [
    "#finding equlibrium index\n",
    "def equi(arr):\n",
    "    i=0\n",
    "    ls=0\n",
    "    rs=sum(arr[1:])\n",
    "    while i<len(arr)-1:\n",
    "        if ls!=rs:\n",
    "            ls=ls+arr[i]\n",
    "            rs=rs-arr[i+1]\n",
    "            i=i+1\n",
    "        else:\n",
    "            print(i)\n",
    "            break\n",
    "            \n",
    "    else:\n",
    "        print('-1')\n",
    "        \n",
    "        \n",
    "n=int(input())        \n",
    "arr=[int(i) for i in input().split()]\n",
    "equi(arr)"
   ]
  },
  {
   "cell_type": "code",
   "execution_count": 11,
   "metadata": {},
   "outputs": [
    {
     "name": "stdout",
     "output_type": "stream",
     "text": [
      "7\n",
      "2 3 1 6 3 6 2\n",
      "1\n"
     ]
    }
   ],
   "source": [
    "#finding unique number\n",
    "def FindUnique(arr):\n",
    "    # Please add your code here\n",
    "    d={}\n",
    "    for i in arr:\n",
    "        if i in d:\n",
    "            d[i]=d[i]+1\n",
    "        else:\n",
    "            d[i]=1\n",
    "    for key, value in d.items():\n",
    "        if value==1:\n",
    "            return key\n",
    "\n",
    "# Main\n",
    "n=int(input())\n",
    "arr=list(int(i) for i in input().strip().split(' '))\n",
    "unique=FindUnique(arr)\n",
    "print(unique)\n"
   ]
  },
  {
   "cell_type": "code",
   "execution_count": 15,
   "metadata": {},
   "outputs": [
    {
     "name": "stdout",
     "output_type": "stream",
     "text": [
      "5\n",
      "2 2 2 2 2\n",
      "4\n",
      "2 2\n",
      "2 2\n",
      "2 2\n",
      "2 2\n",
      "2 2\n",
      "2 2\n",
      "2 2\n",
      "2 2\n",
      "2 2\n",
      "2 2\n"
     ]
    }
   ],
   "source": [
    "#finding pair having sum equal to x\n",
    "def pairSum(arr, x):\n",
    "    arr.sort()\n",
    "    l=len(arr)\n",
    "    i=0\n",
    "    j=l-1\n",
    "    while i<j:\n",
    "        if arr[i]+arr[j]==x:\n",
    "            prod=0\n",
    "            if arr[i]==arr[j]:\n",
    "                count=j-i+1\n",
    "                prod=(count*(count-1))//2\n",
    "                i=j\n",
    "            else:\n",
    "                m=1\n",
    "                n=1\n",
    "                while arr[i+1]==arr[i] and i+1<j:\n",
    "                    m=m+1\n",
    "                    i=i+1\n",
    "                while arr[j-1]==arr[j] and j-1>i:\n",
    "                    n=n+1\n",
    "                    j=j-1\n",
    "                prod=m*n\n",
    "            for l in range(prod):\n",
    "                print(arr[i],arr[j])\n",
    "            i=i+1\n",
    "            j=j-1\n",
    "        elif arr[i]+arr[j]<x:\n",
    "            i=i+1\n",
    "        else:\n",
    "            j=j-1\n",
    "# Main\n",
    "n=int(input())\n",
    "arr=list(int(i) for i in input().strip().split(' '))\n",
    "sum=int(input())\n",
    "pairSum(arr, sum)\n"
   ]
  },
  {
   "cell_type": "code",
   "execution_count": 17,
   "metadata": {},
   "outputs": [
    {
     "name": "stdout",
     "output_type": "stream",
     "text": [
      "7\n",
      "1 2 3 4 5 6 7\n",
      "12\n",
      "1 4 7\n",
      "1 5 6\n",
      "2 3 7\n",
      "2 4 6\n",
      "3 4 5\n"
     ]
    }
   ],
   "source": [
    "#finding triplet having sum X:\n",
    "\n",
    "def triplet(arr, X):\n",
    "    arr.sort()\n",
    "    for k in range(len(arr)):\n",
    "        x=X-arr[k]\n",
    "        pairSum(arr[k+1:], x, arr[k])\n",
    "\n",
    "def pairSum(arr, x, k):\n",
    "    l=len(arr)\n",
    "    i=0\n",
    "    j=l-1\n",
    "    while i<j:\n",
    "        if arr[i]+arr[j]==x:\n",
    "            prod=0\n",
    "            if arr[i]==arr[j]:\n",
    "                count=j-i+1\n",
    "                prod=(count*(count-1))//2\n",
    "                i=j\n",
    "            else:\n",
    "                m=1\n",
    "                n=1\n",
    "                while arr[i+1]==arr[i] and i+1<j:\n",
    "                    m=m+1\n",
    "                    i=i+1\n",
    "                while arr[j-1]==arr[j] and j-1>i:\n",
    "                    n=n+1\n",
    "                    j=j-1\n",
    "                prod=m*n\n",
    "            for l in range(prod):\n",
    "                print(k,arr[i],arr[j])\n",
    "            i=i+1\n",
    "            j=j-1\n",
    "        elif arr[i]+arr[j]<x:\n",
    "            i=i+1\n",
    "        else:\n",
    "            j=j-1\n",
    "            \n",
    "# Main\n",
    "n=int(input())\n",
    "arr=list(int(i) for i in input().strip().split(' '))\n",
    "sum=int(input())\n",
    "triplet(arr, sum)\n"
   ]
  },
  {
   "cell_type": "code",
   "execution_count": 5,
   "metadata": {},
   "outputs": [
    {
     "name": "stdout",
     "output_type": "stream",
     "text": [
      "7\n",
      "1 2 3 4 5 6 7\n",
      "2\n",
      "3 4 5 6 7 1 2\n"
     ]
    }
   ],
   "source": [
    "#rotating array by d shift   approach 1\n",
    "\n",
    "def Rotate(arr, d):\n",
    "    # Please add your code here\n",
    "    i=0\n",
    "    while i<d:\n",
    "        temp=arr[0]\n",
    "        j=1\n",
    "        while j<len(arr):\n",
    "            arr[j-1]=arr[j]\n",
    "            j=j+1\n",
    "        arr[j-1]=temp\n",
    "        i=i+1\n",
    "# Main\n",
    "n=int(input())\n",
    "arr=list(int(i) for i in input().strip().split(' '))\n",
    "d=int(input())\n",
    "Rotate(arr, d)\n",
    "print(*arr)\n"
   ]
  },
  {
   "cell_type": "code",
   "execution_count": 8,
   "metadata": {},
   "outputs": [
    {
     "name": "stdout",
     "output_type": "stream",
     "text": [
      "5\n",
      "1 2 3 4 5\n",
      "3\n",
      "4 5 1 2 3\n"
     ]
    }
   ],
   "source": [
    "#rotating array by d shift approach 2\n",
    "def Rotate(arr, d):\n",
    "    # Please add your code here\n",
    "    l=[]\n",
    "    i=0\n",
    "    while i<d:\n",
    "        l.append(arr[i])\n",
    "        i=i+1\n",
    "    j=0\n",
    "    while j<(len(arr)-d):\n",
    "        arr[j]=arr[j+d]\n",
    "        j=j+1\n",
    "    p=0\n",
    "    while j<len(arr):\n",
    "        arr[j]=l[p]\n",
    "        j=j+1\n",
    "        p=p+1\n",
    "# Main\n",
    "n=int(input())\n",
    "arr=list(int(i) for i in input().strip().split(' '))\n",
    "d=int(input())\n",
    "Rotate(arr, d)\n",
    "print(*arr)\n"
   ]
  },
  {
   "cell_type": "code",
   "execution_count": null,
   "metadata": {},
   "outputs": [],
   "source": [
    "### def Rotate(arr, d): approach 3\n",
    "    arr.reverse()\n",
    "    l1=arr[:len(arr)-d]\n",
    "    l2=arr[len(arr)-d:]\n",
    "    l1.reverse()\n",
    "    l2.reverse()\n",
    "    return l1+l2\n",
    "\n",
    "\n",
    "# Main\n",
    "n=int(input())\n",
    "arr=list(int(i) for i in input().strip().split(' '))\n",
    "d=int(input())\n",
    "ro=Rotate(arr, d)\n",
    "print(*ro)"
   ]
  },
  {
   "cell_type": "code",
   "execution_count": null,
   "metadata": {},
   "outputs": [],
   "source": []
  }
 ],
 "metadata": {
  "kernelspec": {
   "display_name": "Python 3",
   "language": "python",
   "name": "python3"
  },
  "language_info": {
   "codemirror_mode": {
    "name": "ipython",
    "version": 3
   },
   "file_extension": ".py",
   "mimetype": "text/x-python",
   "name": "python",
   "nbconvert_exporter": "python",
   "pygments_lexer": "ipython3",
   "version": "3.7.4"
  }
 },
 "nbformat": 4,
 "nbformat_minor": 2
}
