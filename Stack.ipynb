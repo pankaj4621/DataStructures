{
 "cells": [
  {
   "cell_type": "code",
   "execution_count": 98,
   "metadata": {},
   "outputs": [
    {
     "name": "stdout",
     "output_type": "stream",
     "text": [
      "[10, 11]\n",
      "11\n"
     ]
    }
   ],
   "source": [
    "#defining stack using array\n",
    "class Stack:\n",
    "    def __init__(self, l):\n",
    "        self.__l=l\n",
    "        self.count=0\n",
    "    def push(self, data):\n",
    "        self.count=self.count+1\n",
    "        self.__l.append(data)\n",
    "    def pop(self):\n",
    "        if self.isEmpty():\n",
    "            print('array is empty') \n",
    "        else:\n",
    "            self.count=self.count-1\n",
    "            self.__l.pop()\n",
    "    def top(self):\n",
    "        print(self.__l[self.count-1])\n",
    "    def size(self):\n",
    "        return len(self.__l)\n",
    "    def isEmpty(self):\n",
    "        return self.size()==0\n",
    "    def arrayPrint(self):\n",
    "        print(self.__l)\n",
    "        \n",
    "#performing opeartions over Stack\n",
    "l=[]\n",
    "s=Stack(l)\n",
    "s.push(10)\n",
    "s.push(11)\n",
    "s.push(12)\n",
    "s.push(13)\n",
    "s.pop()\n",
    "s.pop()\n",
    "s.arrayPrint()\n",
    "s.top()\n"
   ]
  },
  {
   "cell_type": "code",
   "execution_count": 3,
   "metadata": {},
   "outputs": [
    {
     "name": "stdout",
     "output_type": "stream",
     "text": [
      "14\n",
      "13\n",
      "12\n",
      "11\n"
     ]
    }
   ],
   "source": [
    "#Inbuilt stack apart from list\n",
    "from queue import LifoQueue\n",
    "q=LifoQueue()\n",
    "q.put(11)\n",
    "q.put(12)\n",
    "q.put(13)\n",
    "q.put(14)\n",
    "while q.empty()==False:\n",
    "    print(q.get())"
   ]
  },
  {
   "cell_type": "code",
   "execution_count": 102,
   "metadata": {},
   "outputs": [
    {
     "name": "stdout",
     "output_type": "stream",
     "text": [
      "4\n",
      "14\n",
      "2\n",
      "12\n"
     ]
    }
   ],
   "source": [
    "#defining stack using linked list\n",
    "class Node:\n",
    "    def __init__(self,data):\n",
    "        self.data = data\n",
    "        self.next = None\n",
    "        \n",
    "class StackUsingLL:\n",
    "    \n",
    "    def __init__(self):\n",
    "        self.__head = None\n",
    "        self.__size = 0\n",
    "\n",
    "    def push(self,data):\n",
    "        self.newNode=Node(data)\n",
    "        self.newNode.next=self.__head\n",
    "        self.__head=self.newNode\n",
    "        self.__size=self.__size+1\n",
    "\n",
    "    def pop(self):\n",
    "        if self.isEmpty():\n",
    "            return 0\n",
    "        else:\n",
    "            self.popped=self.__head.data\n",
    "            self.__head=self.__head.next\n",
    "            self.__size=self.__size-1\n",
    "            return self.popped\n",
    "    def top(self):\n",
    "        if self.isEmpty():\n",
    "            return 0\n",
    "        return self.__head.data\n",
    "    def isEmpty(self):\n",
    "        return self.getSize()==0\n",
    "        \n",
    "    def getSize(self):\n",
    "        return self.__size\n",
    "        \n",
    "#performing operations over stack    \n",
    "s=StackUsingLL()\n",
    "s.push(10)\n",
    "s.push(12)\n",
    "s.push(14)\n",
    "s.push(14)\n",
    "print(s.getSize())\n",
    "print(s.top())\n",
    "s.pop()\n",
    "s.pop()\n",
    "print(s.getSize())\n",
    "print(s.top())\n",
    "\n"
   ]
  },
  {
   "cell_type": "code",
   "execution_count": 17,
   "metadata": {},
   "outputs": [
    {
     "name": "stdout",
     "output_type": "stream",
     "text": [
      "]))\n",
      "false\n"
     ]
    }
   ],
   "source": [
    "#check if paranthesis are balanced\n",
    "def reverseParanthesis(i):\n",
    "    if i==']':\n",
    "        return '['\n",
    "    elif i=='}':\n",
    "        return '{'\n",
    "    elif i==')':\n",
    "        return '('\n",
    "def checkBalanced(expr):\n",
    "    \n",
    "    l=[]\n",
    "    count=0\n",
    "    for i in expr:\n",
    "        if i=='[' or i=='{' or i=='(':\n",
    "            l.append(i)\n",
    "            #print(l)\n",
    "            count+=1\n",
    "        elif i==']' or i=='}' or i==')':\n",
    "            if count==0:\n",
    "                return False\n",
    "            elif l[count-1]==reverseParanthesis(i):\n",
    "                l.pop()\n",
    "                count-=1\n",
    "            else:\n",
    "                #print(1)\n",
    "                return False\n",
    "    else:\n",
    "        if len(l)==0:\n",
    "            return True\n",
    "        return False\n",
    "        \n",
    "#checking if the string hold true or false\n",
    "exp=input()\n",
    "if checkBalanced(exp):\n",
    "    print('true')\n",
    "else:\n",
    "    print('false')\n",
    "\n"
   ]
  },
  {
   "cell_type": "code",
   "execution_count": 6,
   "metadata": {},
   "outputs": [
    {
     "name": "stdout",
     "output_type": "stream",
     "text": [
      "4\n",
      "1 2 3 4\n",
      "1 2 3 4 "
     ]
    }
   ],
   "source": [
    "#reversing stack using another stack\n",
    "\n",
    "def reverseStack(s1,s2):\n",
    "    if len(s1)==1:\n",
    "        return\n",
    "    while len(s1)!=1:\n",
    "        ele=s1.pop()\n",
    "        s2.append(ele)\n",
    "    temp=s1.pop()\n",
    "    while len(s2)!=0:\n",
    "        ele=s2.pop()\n",
    "        s1.append(ele)\n",
    "    reverseStack(s1,s2)\n",
    "    s1.append(temp)\n",
    "\n",
    "from sys import setrecursionlimit\n",
    "setrecursionlimit(11000)\n",
    "n = int(input())\n",
    "s1 = [int(ele) for ele in input().split()]\n",
    "s2 = []\n",
    "reverseStack(s1,s2)\n",
    "while(len(s1) !=0):\n",
    "    print(s1.pop(),end= ' ')"
   ]
  },
  {
   "cell_type": "code",
   "execution_count": 11,
   "metadata": {},
   "outputs": [
    {
     "name": "stdout",
     "output_type": "stream",
     "text": [
      "((a+c))\n",
      "['(', '(', 'a', '+', 'c']\n",
      "['(']\n",
      "true\n"
     ]
    }
   ],
   "source": [
    "#check if the brackets in the string are redundant\n",
    "def checkRedundant(string):\n",
    "    l=[]\n",
    "    for i in string:\n",
    "        count=0\n",
    "        if i!=')':\n",
    "            l.append(i)\n",
    "        else:\n",
    "            j=None\n",
    "            while j!='(':\n",
    "                j=l.pop()\n",
    "                count+=1\n",
    "            count=count-1\n",
    "            if count==0:\n",
    "                return True\n",
    "    else:\n",
    "        return False\n",
    "            \n",
    "    \n",
    "string = input()\n",
    "ans = checkRedundant(string)\n",
    "if ans is True:\n",
    "    print('true')\n",
    "else:\n",
    "    print('false')\n"
   ]
  },
  {
   "cell_type": "code",
   "execution_count": 7,
   "metadata": {},
   "outputs": [
    {
     "name": "stdout",
     "output_type": "stream",
     "text": [
      "}}}{{{\n",
      "4\n"
     ]
    }
   ],
   "source": [
    "#minimum bracket reversal to balance the curly brackets\n",
    "def reversal(string):\n",
    "    l=len(string)\n",
    "    if l%2!=0:\n",
    "        return -1\n",
    "    i=0\n",
    "    j=0\n",
    "    for ele in string:\n",
    "        if ele=='{':\n",
    "            i+=1\n",
    "        else:\n",
    "            j+=1\n",
    "    if i>j:\n",
    "        return l//2-j\n",
    "    elif j>i:\n",
    "        return l//2-i\n",
    "    else:\n",
    "        if i%2==0:\n",
    "            return i\n",
    "        return i+1\n",
    "\n",
    "\n",
    "string=input()\n",
    "print(reversal(string))"
   ]
  },
  {
   "cell_type": "code",
   "execution_count": 27,
   "metadata": {},
   "outputs": [
    {
     "name": "stdout",
     "output_type": "stream",
     "text": [
      "4\n",
      "1 1 1 1\n",
      "1 1 1 1 "
     ]
    }
   ],
   "source": [
    "##stock span\n",
    "def stockSpan(price, n): \n",
    "    S = [None] * n\n",
    "    S[0] = 1\n",
    "    for i in range(1, n, 1): \n",
    "        S[i] = 1    \n",
    "        j = i - 1\n",
    "        while (j>= 0) and (price[i] > price[j]) : \n",
    "                       S[i] += 1\n",
    "                       j -= 1\n",
    "    return S\n",
    "\n",
    "n = int(input())\n",
    "price = [int(ele) for ele in input().split()]\n",
    "spans = stockSpan(price,n)\n",
    "for ele in spans:\n",
    "    print(ele,end= ' ')"
   ]
  },
  {
   "cell_type": "code",
   "execution_count": null,
   "metadata": {},
   "outputs": [],
   "source": [
    "1 2 1 1 5 6 1 1 3 1 1 \n"
   ]
  }
 ],
 "metadata": {
  "kernelspec": {
   "display_name": "Python 3",
   "language": "python",
   "name": "python3"
  },
  "language_info": {
   "codemirror_mode": {
    "name": "ipython",
    "version": 3
   },
   "file_extension": ".py",
   "mimetype": "text/x-python",
   "name": "python",
   "nbconvert_exporter": "python",
   "pygments_lexer": "ipython3",
   "version": "3.7.4"
  }
 },
 "nbformat": 4,
 "nbformat_minor": 2
}
