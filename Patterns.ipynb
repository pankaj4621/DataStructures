{
 "cells": [
  {
   "cell_type": "code",
   "execution_count": 1,
   "metadata": {},
   "outputs": [
    {
     "name": "stdout",
     "output_type": "stream",
     "text": [
      "5\n",
      "55555\n",
      "55555\n",
      "55555\n",
      "55555\n",
      "55555\n"
     ]
    }
   ],
   "source": [
    "n=int(input())\n",
    "i=1\n",
    "while i<=n:\n",
    "    j=1\n",
    "    while j<=n:\n",
    "        print(n, end='')\n",
    "        j=j+1\n",
    "    print()\n",
    "    i=i+1"
   ]
  },
  {
   "cell_type": "code",
   "execution_count": 3,
   "metadata": {},
   "outputs": [
    {
     "name": "stdout",
     "output_type": "stream",
     "text": [
      "4\n",
      "1111\n",
      "2222\n",
      "3333\n",
      "4444\n"
     ]
    }
   ],
   "source": [
    "n=int(input())\n",
    "i=1\n",
    "while i<=n:\n",
    "    j=1\n",
    "    while j<=n:\n",
    "        print(i, end='')\n",
    "        j=j+1\n",
    "    print()\n",
    "    i=i+1"
   ]
  },
  {
   "cell_type": "code",
   "execution_count": 4,
   "metadata": {},
   "outputs": [
    {
     "name": "stdout",
     "output_type": "stream",
     "text": [
      "4\n",
      "1234\n",
      "1234\n",
      "1234\n",
      "1234\n"
     ]
    }
   ],
   "source": [
    "n=int(input())\n",
    "i=1\n",
    "while i<=n:\n",
    "    j=1\n",
    "    while j<=n:\n",
    "        print(j, end='')\n",
    "        j=j+1\n",
    "    print()\n",
    "    i=i+1"
   ]
  },
  {
   "cell_type": "code",
   "execution_count": 6,
   "metadata": {},
   "outputs": [
    {
     "name": "stdout",
     "output_type": "stream",
     "text": [
      "4\n",
      "4321\n",
      "4321\n",
      "4321\n",
      "4321\n"
     ]
    }
   ],
   "source": [
    "n=int(input())\n",
    "i=1\n",
    "while i<=n:\n",
    "    j=n\n",
    "    while j>0:\n",
    "        print(j, end='')\n",
    "        j=j-1\n",
    "    print()\n",
    "    i=i+1"
   ]
  },
  {
   "cell_type": "code",
   "execution_count": 7,
   "metadata": {},
   "outputs": [
    {
     "name": "stdout",
     "output_type": "stream",
     "text": [
      "4\n",
      "1\n",
      "12\n",
      "123\n",
      "1234\n"
     ]
    }
   ],
   "source": [
    "n=int(input())\n",
    "i=1\n",
    "while i<=n:\n",
    "    j=1\n",
    "    while j<=i:\n",
    "        print(j, end='')\n",
    "        j=j+1\n",
    "    print()\n",
    "    i=i+1"
   ]
  },
  {
   "cell_type": "code",
   "execution_count": 9,
   "metadata": {},
   "outputs": [
    {
     "name": "stdout",
     "output_type": "stream",
     "text": [
      "4\n",
      "1\n",
      "23\n",
      "345\n",
      "4567\n"
     ]
    }
   ],
   "source": [
    "n=int(input())\n",
    "i=1\n",
    "while i<=n:\n",
    "    j=i\n",
    "    while j<i+i:\n",
    "        print(j, end='')\n",
    "        j=j+1\n",
    "    print()\n",
    "    i=i+1"
   ]
  },
  {
   "cell_type": "code",
   "execution_count": 10,
   "metadata": {},
   "outputs": [
    {
     "name": "stdout",
     "output_type": "stream",
     "text": [
      "4\n",
      "1\n",
      "12\n",
      "123\n",
      "1234\n"
     ]
    }
   ],
   "source": [
    "n=int(input())\n",
    "i=1\n",
    "while i<=n:\n",
    "    j=1\n",
    "    while j<=i:\n",
    "        print(j, end='')\n",
    "        j=j+1\n",
    "    print()\n",
    "    i=i+1"
   ]
  },
  {
   "cell_type": "code",
   "execution_count": 13,
   "metadata": {},
   "outputs": [
    {
     "name": "stdout",
     "output_type": "stream",
     "text": [
      "4\n",
      "1\n",
      "23\n",
      "456\n",
      "78910\n"
     ]
    }
   ],
   "source": [
    "n=int(input())\n",
    "i=1\n",
    "p=1\n",
    "while i<=n:\n",
    "    j=1\n",
    "    while j<=i:\n",
    "        print(p, end='')\n",
    "        p=p+1\n",
    "        j=j+1\n",
    "    print()\n",
    "    i=i+1"
   ]
  },
  {
   "cell_type": "code",
   "execution_count": 14,
   "metadata": {},
   "outputs": [
    {
     "name": "stdout",
     "output_type": "stream",
     "text": [
      "5\n",
      "*\n",
      "**\n",
      "***\n",
      "****\n",
      "*****\n"
     ]
    }
   ],
   "source": [
    "n=int(input())\n",
    "i=1\n",
    "while i<=n:\n",
    "    j=1\n",
    "    while j<=i:\n",
    "        print(\"*\", end='')\n",
    "        j=j+1\n",
    "    print()\n",
    "    i=i+1"
   ]
  },
  {
   "cell_type": "code",
   "execution_count": 15,
   "metadata": {},
   "outputs": [
    {
     "name": "stdout",
     "output_type": "stream",
     "text": [
      "5\n",
      "1\n",
      "22\n",
      "333\n",
      "4444\n",
      "55555\n"
     ]
    }
   ],
   "source": [
    "n=int(input())\n",
    "i=1\n",
    "while i<=n:\n",
    "    j=1\n",
    "    while j<=i:\n",
    "        print(i, end='')\n",
    "        j=j+1\n",
    "    print()\n",
    "    i=i+1"
   ]
  },
  {
   "cell_type": "code",
   "execution_count": 16,
   "metadata": {},
   "outputs": [
    {
     "name": "stdout",
     "output_type": "stream",
     "text": [
      "4\n",
      "1\n",
      "21\n",
      "321\n",
      "4321\n"
     ]
    }
   ],
   "source": [
    "n=int(input())\n",
    "i=1\n",
    "while i<=n:\n",
    "    j=1\n",
    "    while j<=i:\n",
    "        print(i-j+1, end='')\n",
    "        j=j+1\n",
    "    print()\n",
    "    i=i+1"
   ]
  },
  {
   "cell_type": "code",
   "execution_count": 17,
   "metadata": {},
   "outputs": [
    {
     "name": "stdout",
     "output_type": "stream",
     "text": [
      "4\n",
      "1\n",
      "21\n",
      "321\n",
      "4321\n"
     ]
    }
   ],
   "source": [
    "n=int(input())\n",
    "i=1\n",
    "while i<=n:\n",
    "    j=1\n",
    "    p=i\n",
    "    while j<=i:\n",
    "        print(p, end='')\n",
    "        p=p-1\n",
    "        j=j+1\n",
    "    print()\n",
    "    i=i+1"
   ]
  },
  {
   "cell_type": "code",
   "execution_count": 20,
   "metadata": {},
   "outputs": [
    {
     "name": "stdout",
     "output_type": "stream",
     "text": [
      "4\n",
      "ABCD\n",
      "ABCD\n",
      "ABCD\n",
      "ABCD\n"
     ]
    }
   ],
   "source": [
    "n=int(input())\n",
    "i=1\n",
    "while i<=n:\n",
    "    j=1\n",
    "    while j<=n:\n",
    "        charP=chr(ord('A')+j-1)\n",
    "        print(charP,end=\"\")\n",
    "        j=j+1\n",
    "    print()\n",
    "    i=i+1"
   ]
  },
  {
   "cell_type": "code",
   "execution_count": 21,
   "metadata": {},
   "outputs": [
    {
     "name": "stdout",
     "output_type": "stream",
     "text": [
      "4\n",
      "ABCD\n",
      "BCDE\n",
      "CDEF\n",
      "DEFG\n"
     ]
    }
   ],
   "source": [
    "n=int(input())\n",
    "i=1\n",
    "while i<=n:\n",
    "    j=1\n",
    "    while j<=n:\n",
    "        charP=chr(ord('A')+i+j-2)\n",
    "        print(charP,end=\"\")\n",
    "        j=j+1\n",
    "    print()\n",
    "    i=i+1"
   ]
  },
  {
   "cell_type": "code",
   "execution_count": 24,
   "metadata": {},
   "outputs": [
    {
     "name": "stdout",
     "output_type": "stream",
     "text": [
      "5\n",
      "A\n",
      "BC\n",
      "CDE\n",
      "DEFG\n",
      "EFGHI\n"
     ]
    }
   ],
   "source": [
    "n=int(input())\n",
    "i=1\n",
    "while i<=n:\n",
    "    j=1\n",
    "    while j<=i:\n",
    "        charP=chr(ord('A')+i+j-2)\n",
    "        print(charP, end='')\n",
    "        \n",
    "        j=j+1\n",
    "    print()\n",
    "    i=i+1\n"
   ]
  },
  {
   "cell_type": "code",
   "execution_count": 25,
   "metadata": {},
   "outputs": [
    {
     "name": "stdout",
     "output_type": "stream",
     "text": [
      "5\n",
      "E\n",
      "DE\n",
      "CDE\n",
      "BCDE\n",
      "ABCDE\n"
     ]
    }
   ],
   "source": [
    "n=int(input())\n",
    "i=1\n",
    "while i<=n:\n",
    "    j=1\n",
    "    while j<=i:\n",
    "        charP=chr(ord('A')+n-i+j-1)\n",
    "        print(charP, end=\"\")\n",
    "        j=j+1\n",
    "    print()\n",
    "    i=i+1"
   ]
  },
  {
   "cell_type": "code",
   "execution_count": 26,
   "metadata": {},
   "outputs": [
    {
     "name": "stdout",
     "output_type": "stream",
     "text": [
      "4\n",
      "1\n",
      "11\n",
      "111\n",
      "1111\n"
     ]
    }
   ],
   "source": [
    "n=int(input())\n",
    "i=1\n",
    "while i<=n:\n",
    "    j=1\n",
    "    while j<=i:\n",
    "        print(1, end='')\n",
    "        j=j+1\n",
    "    print()\n",
    "    i=i+1"
   ]
  },
  {
   "cell_type": "code",
   "execution_count": 37,
   "metadata": {},
   "outputs": [
    {
     "name": "stdout",
     "output_type": "stream",
     "text": [
      "5\n",
      "1\n",
      "11\n",
      "202\n",
      "3003\n",
      "40004\n"
     ]
    }
   ],
   "source": [
    "n=int(input())\n",
    "i=1\n",
    "while i<=n:\n",
    "    j=1\n",
    "    if i==1:\n",
    "        print(1)\n",
    "        i=i+1\n",
    "    \n",
    "    while j<=i:\n",
    "        if j==1 or j==i:\n",
    "            print(i-1, end='')\n",
    "        else:\n",
    "            print(0,end='')\n",
    "        j=j+1\n",
    "    print()\n",
    "    i=i+1"
   ]
  },
  {
   "cell_type": "code",
   "execution_count": 43,
   "metadata": {},
   "outputs": [
    {
     "name": "stdout",
     "output_type": "stream",
     "text": [
      "5\n",
      "1\n",
      "11\n",
      "121\n",
      "1221\n",
      "12221\n"
     ]
    }
   ],
   "source": [
    "n=int(input())\n",
    "i=1\n",
    "while i<=n:\n",
    "    j=1\n",
    "    while j<=i:\n",
    "        if j==1 or j==i:\n",
    "            print(1, end='')\n",
    "        else:\n",
    "            print(2, end='')\n",
    "        j=j+1\n",
    "    print()\n",
    "    i=i+1"
   ]
  },
  {
   "cell_type": "code",
   "execution_count": 46,
   "metadata": {},
   "outputs": [
    {
     "name": "stdout",
     "output_type": "stream",
     "text": [
      "5\n",
      "1\n",
      "11\n",
      "121\n",
      "1221\n",
      "12221\n"
     ]
    }
   ],
   "source": [
    "n=int(input())\n",
    "i=1\n",
    "while i<=n:\n",
    "    j=1\n",
    "    while j<=i:\n",
    "        if j==1 or j==i:\n",
    "            print(1, end='')\n",
    "        else:\n",
    "            print(2, end='')\n",
    "        j=j+1\n",
    "    print()\n",
    "    i=i+1"
   ]
  },
  {
   "cell_type": "code",
   "execution_count": 48,
   "metadata": {},
   "outputs": [
    {
     "name": "stdout",
     "output_type": "stream",
     "text": [
      "5\n",
      "54321\n",
      "4321\n",
      "321\n",
      "21\n",
      "1\n"
     ]
    }
   ],
   "source": [
    "n=int(input())\n",
    "i=n\n",
    "while i>0:\n",
    "    j=i\n",
    "    while j>0:\n",
    "        print(j, end='')\n",
    "        j=j-1\n",
    "    print()\n",
    "    \n",
    "    i=i-1"
   ]
  },
  {
   "cell_type": "code",
   "execution_count": 50,
   "metadata": {},
   "outputs": [
    {
     "name": "stdout",
     "output_type": "stream",
     "text": [
      "5\n",
      "12345\n",
      "1234\n",
      "123\n",
      "12\n",
      "1\n"
     ]
    }
   ],
   "source": [
    "n=int(input())\n",
    "i=n\n",
    "while i>0:\n",
    "    j=1\n",
    "    while j<=i:\n",
    "        print(j, end='')\n",
    "        j=j+1\n",
    "    print()\n",
    "    \n",
    "    i=i-1"
   ]
  },
  {
   "cell_type": "code",
   "execution_count": 51,
   "metadata": {},
   "outputs": [
    {
     "name": "stdout",
     "output_type": "stream",
     "text": [
      "5\n",
      "A\n",
      "BB\n",
      "CCC\n",
      "DDDD\n",
      "EEEEE\n"
     ]
    }
   ],
   "source": [
    "n=int(input())\n",
    "i=1\n",
    "while i<=n:\n",
    "    j=1\n",
    "    while j<=i:\n",
    "        charP=chr(ord('A')+i-1)\n",
    "        print(charP, end='')\n",
    "        j=j+1\n",
    "    print()\n",
    "    i=i+1"
   ]
  },
  {
   "cell_type": "code",
   "execution_count": 52,
   "metadata": {},
   "outputs": [
    {
     "name": "stdout",
     "output_type": "stream",
     "text": [
      "5\n",
      "*****\n",
      "****\n",
      "***\n",
      "**\n",
      "*\n"
     ]
    }
   ],
   "source": [
    "n=int(input())\n",
    "i=1\n",
    "while i<=n:\n",
    "    j=1\n",
    "    while j<=n-i+1:\n",
    "        print('*', end='')\n",
    "        j=j+1\n",
    "    print()\n",
    "    i=i+1"
   ]
  },
  {
   "cell_type": "code",
   "execution_count": 54,
   "metadata": {},
   "outputs": [
    {
     "name": "stdout",
     "output_type": "stream",
     "text": [
      "4\n",
      "4444\n",
      "333\n",
      "22\n",
      "1\n"
     ]
    }
   ],
   "source": [
    "n=int(input())\n",
    "i=1\n",
    "while i<=n:\n",
    "    j=1\n",
    "    while j<=n-i+1:\n",
    "        print(n-i+1, end='')\n",
    "        j=j+1\n",
    "    print()\n",
    "    \n",
    "    i=i+1"
   ]
  },
  {
   "cell_type": "code",
   "execution_count": 56,
   "metadata": {},
   "outputs": [
    {
     "name": "stdout",
     "output_type": "stream",
     "text": [
      "5\n",
      "*****\n",
      "****\n",
      "***\n",
      "**\n",
      "*\n"
     ]
    }
   ],
   "source": [
    "n=int(input())\n",
    "i=n\n",
    "while i>0:\n",
    "    j=1\n",
    "    while j<=i:\n",
    "        print('*', end='')\n",
    "        j=j+1\n",
    "    print()\n",
    "    i=i-1"
   ]
  },
  {
   "cell_type": "code",
   "execution_count": 61,
   "metadata": {},
   "outputs": [
    {
     "name": "stdout",
     "output_type": "stream",
     "text": [
      "5\n",
      "    *\n",
      "   **\n",
      "  ***\n",
      " ****\n",
      "*****\n"
     ]
    }
   ],
   "source": [
    "n=int(input())\n",
    "i=1\n",
    "while i<=n:\n",
    "    spaces=n-i\n",
    "    j=1\n",
    "    p=1\n",
    "    while p<=spaces:\n",
    "        print(' ', end='')\n",
    "        p=p+1\n",
    "    while j<=i:\n",
    "        print('*', end='')\n",
    "        j=j+1\n",
    "    print()\n",
    "    i=i+1"
   ]
  },
  {
   "cell_type": "code",
   "execution_count": 62,
   "metadata": {},
   "outputs": [
    {
     "name": "stdout",
     "output_type": "stream",
     "text": [
      "4\n",
      "   1\n",
      "  12\n",
      " 123\n",
      "1234\n"
     ]
    }
   ],
   "source": [
    "n=int(input())\n",
    "i=1\n",
    "while i<=n:\n",
    "    spaces=n-i\n",
    "    p=1\n",
    "    j=1\n",
    "    while p<=spaces:\n",
    "        print(' ', end='')\n",
    "        p=p+1\n",
    "    while j<=i:\n",
    "        print(j, end='')\n",
    "        j=j+1\n",
    "    print()\n",
    "    \n",
    "    i=i+1"
   ]
  },
  {
   "cell_type": "code",
   "execution_count": 81,
   "metadata": {},
   "outputs": [
    {
     "name": "stdout",
     "output_type": "stream",
     "text": [
      "5\n",
      "    1\n",
      "   121\n",
      "  12321\n",
      " 1234321\n",
      "123454321\n"
     ]
    }
   ],
   "source": [
    "n=int(input())\n",
    "i=1\n",
    "while i<=n:\n",
    "    spaces=n-i\n",
    "    p=1\n",
    "    j=1\n",
    "    k=i-1\n",
    "    while p<=spaces:   #spaces\n",
    "        print(' ', end='')\n",
    "        p=p+1\n",
    "    while j<=i:    #increasing sequence\n",
    "        print(j, end='')\n",
    "        j=j+1\n",
    "    \n",
    "    while k>=1:    #decreasing sequence\n",
    "        print(k, end='')\n",
    "        k=k-1\n",
    "    print()\n",
    "    i=i+1"
   ]
  },
  {
   "cell_type": "code",
   "execution_count": 82,
   "metadata": {},
   "outputs": [
    {
     "name": "stdout",
     "output_type": "stream",
     "text": [
      "5\n",
      "    *\n",
      "   ***\n",
      "  *****\n",
      " *******\n",
      "*********\n"
     ]
    }
   ],
   "source": [
    "n=int(input())\n",
    "i=1\n",
    "while i<=n:\n",
    "    spaces=n-i\n",
    "    p=1\n",
    "    j=1\n",
    "    k=i-1\n",
    "    while p<=spaces:   #spaces\n",
    "        print(' ', end='')\n",
    "        p=p+1\n",
    "    while j<=i:    #increasing sequence\n",
    "        print('*', end='')\n",
    "        j=j+1\n",
    "    \n",
    "    while k>=1:    #decreasing spaces\n",
    "        print('*', end='')\n",
    "        k=k-1\n",
    "    print()\n",
    "    i=i+1"
   ]
  },
  {
   "cell_type": "code",
   "execution_count": 86,
   "metadata": {},
   "outputs": [
    {
     "name": "stdout",
     "output_type": "stream",
     "text": [
      "5\n",
      "    1\n",
      "   232\n",
      "  34543\n",
      " 4567654\n",
      "567898765\n"
     ]
    }
   ],
   "source": [
    "n=int(input())\n",
    "i=1\n",
    "while i<=n:\n",
    "    spaces=n-i\n",
    "    p=1\n",
    "    j=i\n",
    "    k=i-1\n",
    "    while p<=spaces:   #spaces\n",
    "        print(' ', end='')\n",
    "        p=p+1\n",
    "    while j<=2*i-1:    #increasing sequence\n",
    "        print(j, end='')\n",
    "        j=j+1\n",
    "    \n",
    "    while k>0:    #decreasing sequnce\n",
    "        print(j-2, end='')\n",
    "        j=j-1\n",
    "        k=k-1\n",
    "    print()\n",
    "    i=i+1"
   ]
  },
  {
   "cell_type": "code",
   "execution_count": 110,
   "metadata": {},
   "outputs": [
    {
     "name": "stdout",
     "output_type": "stream",
     "text": [
      "7\n",
      "   *\n",
      "  ***\n",
      " *****\n",
      "*******\n",
      " *****\n",
      "  ***\n",
      "   *\n"
     ]
    }
   ],
   "source": [
    "n=int(input())\n",
    "i=1\n",
    "#making upper part of the diamond\n",
    "fh=(n+1)/2\n",
    "while i<=fh:\n",
    "    spaces=fh-i\n",
    "    p=1\n",
    "    j=1\n",
    "    k=i-1\n",
    "    while p<=spaces:   #upper part spaces\n",
    "        print(' ', end='')\n",
    "        p=p+1\n",
    "    while j<=i:    #upper left stars\n",
    "        print('*', end='')\n",
    "        j=j+1\n",
    "    \n",
    "    while k>=1:    #upper right stars\n",
    "        print('*', end='')\n",
    "        k=k-1\n",
    "    print()\n",
    "    i=i+1\n",
    "\n",
    "#making lower part of the diamond \n",
    "while i<=n:\n",
    "    sh=(n+1)/2\n",
    "    spaces2=i-sh\n",
    "    while spaces2>0:      #lower part spaces\n",
    "        print(' ', end='')\n",
    "        spaces2=spaces2-1\n",
    "    q=i                    #lower left stars\n",
    "    while n-q+1>0:\n",
    "        print('*', end='')\n",
    "        q=q+1\n",
    "    \n",
    "    r=i                    #lower right stars\n",
    "    while n-r+1>1:\n",
    "        print('*', end='')\n",
    "        r=r+1\n",
    "        \n",
    "    print()\n",
    "    \n",
    "    i=i+1\n",
    "    "
   ]
  },
  {
   "cell_type": "code",
   "execution_count": 14,
   "metadata": {},
   "outputs": [
    {
     "name": "stdout",
     "output_type": "stream",
     "text": [
      "15\n",
      "       *\n",
      "      ***\n",
      "     *****\n",
      "    *******\n",
      "   *********\n",
      "  ***********\n",
      " *************\n",
      "***************\n",
      " *************\n",
      "  ***********\n",
      "   *********\n",
      "    *******\n",
      "     *****\n",
      "      ***\n",
      "       *\n"
     ]
    }
   ],
   "source": [
    "n=int(input())\n",
    "fh=(n+1)//2\n",
    "for i in range(1, fh+1):\n",
    "    for j in range(1, fh-i+1):\n",
    "        print(' ', end='')\n",
    "    for k in range(1, 2*i):\n",
    "        print('*', end='')\n",
    "    print()\n",
    "sh=n-fh\n",
    "for i in range(1, sh+1):\n",
    "    for j in range(1, i+1):\n",
    "        print(' ', end='')\n",
    "    for k in range(1, n-2*i+1):\n",
    "        print('*', end='')\n",
    "    print()\n",
    "        "
   ]
  },
  {
   "cell_type": "code",
   "execution_count": 12,
   "metadata": {},
   "outputs": [
    {
     "name": "stdout",
     "output_type": "stream",
     "text": [
      "5\n",
      "    1\n",
      "   232\n",
      "  34543\n",
      " 4567654\n",
      "567898765\n"
     ]
    }
   ],
   "source": [
    "n=int(input())\n",
    "for i in range(1, n+1):\n",
    "    #creating a loop for the spaces\n",
    "    for j in range(1, n-i+1):\n",
    "        print(' ', end='')\n",
    "    for k in range(0, i):\n",
    "        print(k+i, end='')\n",
    "    for j in range(1, i):\n",
    "        print(k+i-1, end='')\n",
    "        k=k-1\n",
    "    print()"
   ]
  },
  {
   "cell_type": "code",
   "execution_count": 25,
   "metadata": {},
   "outputs": [
    {
     "name": "stdout",
     "output_type": "stream",
     "text": [
      "6\n",
      "6\n",
      "5\n",
      "4\n",
      "3\n",
      "2\n",
      "1\n"
     ]
    }
   ],
   "source": [
    "n=int(input())\n",
    "for i in range(n,0,-1):\n",
    "    print(i)"
   ]
  },
  {
   "cell_type": "code",
   "execution_count": 13,
   "metadata": {},
   "outputs": [
    {
     "name": "stdout",
     "output_type": "stream",
     "text": [
      "7\n",
      "1            1\n",
      "12          21\n",
      "123        321\n",
      "1234      4321\n",
      "12345    54321\n",
      "123456  654321\n",
      "12345677654321\n"
     ]
    }
   ],
   "source": [
    "n=int(input())\n",
    "for i in range(1, n+1):\n",
    "    for j in range(1, i+1):\n",
    "        print(j, end='')\n",
    "    for k in range(1, 2*(n-i)+1):\n",
    "        print(' ', end='')\n",
    "    for l in range(1, i+1):\n",
    "        print(j, end='')\n",
    "        j=j-1\n",
    "    print()"
   ]
  },
  {
   "cell_type": "code",
   "execution_count": 19,
   "metadata": {},
   "outputs": [
    {
     "name": "stdout",
     "output_type": "stream",
     "text": [
      "5\n",
      "*0000*0000*\n",
      "0*000*000*0\n",
      "00*00*00*00\n",
      "000*0*0*000\n",
      "0000***0000\n"
     ]
    }
   ],
   "source": [
    "n=int(input())\n",
    "for i in range(1, n+1):\n",
    "    for j in range(1, n+1):\n",
    "        if j==i:\n",
    "            print('*', end='')\n",
    "        else:\n",
    "            print(0, end='')\n",
    "    for k in range(1, 2):\n",
    "        print('*', end='')\n",
    "    for l in range(1, n+1):\n",
    "        if l==n-i+1:\n",
    "            print('*', end='')\n",
    "        else:\n",
    "            print(0, end='')\n",
    "    print()"
   ]
  },
  {
   "cell_type": "code",
   "execution_count": 25,
   "metadata": {},
   "outputs": [
    {
     "name": "stdout",
     "output_type": "stream",
     "text": [
      "5\n",
      "    1\n",
      "   212\n",
      "  32123\n",
      " 4321234\n",
      "543212345\n"
     ]
    }
   ],
   "source": [
    "n=int(input())\n",
    "for i in range(1, n+1):\n",
    "    for j in range(1, n-i+1):\n",
    "        print(' ', end='')\n",
    "    p=i\n",
    "    for k in range(1, i+1):\n",
    "        print(p, end='')\n",
    "        p=p-1\n",
    "    for l in range(1, i):\n",
    "        print(p+2, end='')\n",
    "        p=p+1\n",
    "    print()"
   ]
  },
  {
   "cell_type": "code",
   "execution_count": 13,
   "metadata": {},
   "outputs": [
    {
     "name": "stdout",
     "output_type": "stream",
     "text": [
      "15\n",
      "* \n",
      " * * \n",
      "  * * * \n",
      "   * * * * \n",
      "    * * * * * \n",
      "     * * * * * * \n",
      "      * * * * * * * \n",
      "       * * * * * * * * \n",
      "      * * * * * * * \n",
      "     * * * * * * \n",
      "    * * * * * \n",
      "   * * * * \n",
      "  * * * \n",
      " * * \n",
      "* \n"
     ]
    }
   ],
   "source": [
    "## Read input as specified in the question.\n",
    "## Print output as specified in the question.\n",
    "n=int(input())\n",
    "fh=(n+1)//2\n",
    "for i in range(1, fh+1):\n",
    "    for j in range(1, i):\n",
    "        print(' ', end='')\n",
    "    for k in range(1, i+1):\n",
    "        print('*', end=' ')\n",
    "    print()\n",
    "\n",
    "sh=n-fh\n",
    "for i in range(1, sh+1):\n",
    "    for j in range(1, sh-i+1):\n",
    "        print(' ', end='')\n",
    "    for k in range(1, sh-i+2):\n",
    "        print('*', end=' ')\n",
    "    print()\n",
    "    "
   ]
  },
  {
   "cell_type": "code",
   "execution_count": 40,
   "metadata": {},
   "outputs": [
    {
     "name": "stdout",
     "output_type": "stream",
     "text": [
      "5\n",
      "11111\n",
      "0000\n",
      "111\n",
      "00\n",
      "1\n"
     ]
    }
   ],
   "source": [
    "## Read input as specified in the question.\n",
    "## Print output as specified in the question.\n",
    "n=int(input())\n",
    "for i in range(1, n+1):\n",
    "    for j in range(1, n-i+2):\n",
    "        if i%2==0:\n",
    "            print(0, end='')\n",
    "        else:\n",
    "            print(1, end='')\n",
    "    print()\n",
    "    \n",
    "    "
   ]
  },
  {
   "cell_type": "markdown",
   "metadata": {},
   "source": [
    "##### "
   ]
  },
  {
   "cell_type": "code",
   "execution_count": 60,
   "metadata": {},
   "outputs": [
    {
     "name": "stdout",
     "output_type": "stream",
     "text": [
      "5\n",
      "12345\n",
      " 2345\n",
      "  345\n",
      "   45\n",
      "    5\n",
      "   45\n",
      "  345\n",
      " 2345\n",
      "12345\n"
     ]
    }
   ],
   "source": [
    "n=int(input())\n",
    "fh=n\n",
    "for i in range(1, fh+1):\n",
    "    for j in range(1, i):\n",
    "        print(' ', end='')\n",
    "    for k in range(i, n+1):\n",
    "        print(k, end='')\n",
    "    print()\n",
    "sh=n-1\n",
    "for i in range(1, n):\n",
    "    for j in range(1, sh-i+1):\n",
    "        print(' ', end='')\n",
    "    for k in range(sh-i+1 ,fh+1):\n",
    "        print(k, end='')\n",
    "    \n",
    "    print()\n",
    "        \n",
    "        "
   ]
  },
  {
   "cell_type": "code",
   "execution_count": 24,
   "metadata": {},
   "outputs": [
    {
     "name": "stdout",
     "output_type": "stream",
     "text": [
      "5\n",
      "555555555\n",
      "544444445\n",
      "543333345\n",
      "543222345\n",
      "543212345\n",
      "543222345\n",
      "543333345\n",
      "544444445\n",
      "555555555\n"
     ]
    }
   ],
   "source": [
    "n=int(input())\n",
    "for i in range(1, n+1):\n",
    "    for j in range(n, n-i, -1):\n",
    "        print(j, end='')\n",
    "    else:\n",
    "        for k in range(1, j):\n",
    "            print(j, end='')\n",
    "    p=n-i+1\n",
    "    for j in range(1, p+1):\n",
    "        if j==1:\n",
    "            continue\n",
    "        print(p, end='')\n",
    "    else:\n",
    "        for k in range(p+1, n+1):\n",
    "            print(k, end='')\n",
    "    print()\n",
    "\n",
    "for i in range(1, n+1):\n",
    "    if i==1:\n",
    "        continue\n",
    "    for j in range(n, i-1, -1):\n",
    "        print(j, end='')\n",
    "    else:\n",
    "        for k in range(1, i):\n",
    "            print(j, end='')\n",
    "    p=i\n",
    "    for j in range(1, p+1):\n",
    "        if j==1:\n",
    "            continue\n",
    "        print(i, end='')\n",
    "    else:\n",
    "        for k in range(j+1, n+1):\n",
    "            print(k, end='')\n",
    "    \n",
    "    print()\n",
    "\n",
    "    "
   ]
  },
  {
   "cell_type": "code",
   "execution_count": 34,
   "metadata": {},
   "outputs": [
    {
     "name": "stdout",
     "output_type": "stream",
     "text": [
      "6\n",
      "1 2 3 4 5 6 \n",
      "13 14 15 16 17 18 \n",
      "25 26 27 28 29 30 \n",
      "31 32 33 34 35 36 \n",
      "19 20 21 22 23 24 \n",
      "7 8 9 10 11 12 \n"
     ]
    }
   ],
   "source": [
    "n=int(input())\n",
    "even=(n+1)//2\n",
    "odd=n-even\n",
    "for i in range(0, even):\n",
    "    p=1\n",
    "    for j in range(1,n+1):\n",
    "        e=2*i\n",
    "        print(e*n+p, end=' ')\n",
    "        p=p+1\n",
    "    print()\n",
    "    \n",
    "for k in range(odd-1, -1, -1):\n",
    "    q=1\n",
    "    for l in range(1,n+1):\n",
    "        o=2*k+1\n",
    "        print(o*n+q, end=' ')\n",
    "        q=q+1\n",
    "    \n",
    "    print()"
   ]
  },
  {
   "cell_type": "code",
   "execution_count": 25,
   "metadata": {},
   "outputs": [
    {
     "name": "stdout",
     "output_type": "stream",
     "text": [
      "11\n",
      "\n",
      "\n",
      "*         * * * * * * \n",
      "*         * \n",
      "*         * \n",
      "*         * \n",
      "*         * \n",
      "* * * * * * * * * * * \n",
      "          *         * \n",
      "          *         * \n",
      "          *         * \n",
      "          *         * \n",
      "* * * * * *         * "
     ]
    }
   ],
   "source": [
    "#printing swastik pattern\n",
    "import sys\n",
    "n=int(input())\n",
    "if n%2==0:\n",
    "    sys.exit(\"enter only odd number\")\n",
    "fh=n//2\n",
    "sh=n-fh\n",
    "#printing first half\n",
    "print()\n",
    "print()\n",
    "for i in range(0, fh):\n",
    "    for j in range(0, sh):\n",
    "        if j==0 or j==sh-1:\n",
    "            print('*', end=' ')\n",
    "        else:\n",
    "            print(' ',end=' ')\n",
    "    if i==0:\n",
    "        for k in range(sh,n):\n",
    "            print('*', end=' ')\n",
    "    print()\n",
    "    \n",
    "#printing middle\n",
    "for i in range(0,n):\n",
    "    print('*', end=' ')\n",
    "print()    \n",
    "#printing lower part\n",
    "for i in range(0, fh): \n",
    "    if i==fh-1:\n",
    "        for j in range(0, sh):\n",
    "            print('*', end=' ')\n",
    "        for k in range(sh, n):\n",
    "            if k==n-1:\n",
    "                print('*', end=' ')\n",
    "            else:\n",
    "                print(' ', end=' ')\n",
    "    else:\n",
    "        for j in range(0,n):\n",
    "            if j==fh or j==n-1:\n",
    "                print('*', end=' ')\n",
    "            else:\n",
    "                print(' ', end=' ')\n",
    "        print()"
   ]
  },
  {
   "cell_type": "code",
   "execution_count": null,
   "metadata": {},
   "outputs": [],
   "source": []
  }
 ],
 "metadata": {
  "kernelspec": {
   "display_name": "Python 3",
   "language": "python",
   "name": "python3"
  },
  "language_info": {
   "codemirror_mode": {
    "name": "ipython",
    "version": 3
   },
   "file_extension": ".py",
   "mimetype": "text/x-python",
   "name": "python",
   "nbconvert_exporter": "python",
   "pygments_lexer": "ipython3",
   "version": "3.7.4"
  }
 },
 "nbformat": 4,
 "nbformat_minor": 2
}
