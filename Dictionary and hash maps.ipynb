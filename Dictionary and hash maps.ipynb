{
 "cells": [
  {
   "cell_type": "code",
   "execution_count": 13,
   "metadata": {},
   "outputs": [
    {
     "name": "stdout",
     "output_type": "stream",
     "text": [
      "hello my friends hello again bye\n",
      "2\n",
      "hello\n"
     ]
    }
   ],
   "source": [
    "#printing words with frequency k in the given string approach 1\n",
    "def countWords(string, k):\n",
    "    d={}\n",
    "    s=string.split()\n",
    "    #counting frequency of words\n",
    "    for i in s:\n",
    "        if i in d:\n",
    "            d[i]=d[i]+1\n",
    "        else:\n",
    "            d[i]=1\n",
    "     #printing words with frequency k       \n",
    "    for key in d:\n",
    "        if d[key]==k:\n",
    "            print(key)\n",
    "\n",
    "string=input()\n",
    "k=int(input())\n",
    "countWords(string, k)"
   ]
  },
  {
   "cell_type": "code",
   "execution_count": 25,
   "metadata": {},
   "outputs": [
    {
     "name": "stdout",
     "output_type": "stream",
     "text": [
      "hello my friends hello again bye\n",
      "2\n",
      "hello\n"
     ]
    }
   ],
   "source": [
    "#printing words with frequency k in the given string using get() approach 2\n",
    "def countWords1(string, k):\n",
    "    d={}\n",
    "    s=string.split()\n",
    "    #counting frequency of words using get function\n",
    "    for i in s:\n",
    "        d[i]=d.get(i, 0)+1\n",
    "     #printing words with frequency k       \n",
    "    for key in d:\n",
    "        if d[key]==k:\n",
    "            print(key)\n",
    "\n",
    "string=input()\n",
    "k=int(input())\n",
    "countWords1(string, k)"
   ]
  },
  {
   "cell_type": "code",
   "execution_count": 2,
   "metadata": {},
   "outputs": [
    {
     "name": "stdout",
     "output_type": "stream",
     "text": [
      "13\n",
      "2 12 2 11 12 2 1 2 2 11 12 2 6 \n",
      "2\n"
     ]
    }
   ],
   "source": [
    "#finding number with maximum frequency\n",
    "def maxFreq(l):\n",
    "    d={}\n",
    "    max=-100000\n",
    "    ans=0\n",
    "    for i in l:\n",
    "        d[i]=d.get(i,0)+1\n",
    "        if d[i]>max:\n",
    "            max=d[i]\n",
    "            ans=i\n",
    "    return ans\n",
    "\n",
    "# Main\n",
    "n=int(input())\n",
    "l=list(int(i) for i in input().strip().split(' '))\n",
    "print(maxFreq(l))\n"
   ]
  },
  {
   "cell_type": "code",
   "execution_count": 4,
   "metadata": {},
   "outputs": [
    {
     "name": "stdout",
     "output_type": "stream",
     "text": [
      "5\n",
      "2 1 -2 2 3\n",
      "-2 2\n",
      "-2 2\n"
     ]
    }
   ],
   "source": [
    "#find pair having sum 0 and print them in ascending order 1st approach\n",
    "def pairSum0(l):\n",
    "    d={}\n",
    "    for i in l:\n",
    "        d[i]=d.get(i, 0)+1\n",
    "    for i in l:\n",
    "        if -i in d:\n",
    "            for j in range(0,d[i]*d[-i]):\n",
    "                i=int((i**2)**(1/2))\n",
    "                print(-i,i)\n",
    "                d[-i]=0\n",
    "                d[i]=0\n",
    "\n",
    "n=int(input())\n",
    "l=list(int(i) for i in input().strip().split(' '))\n",
    "pairSum0(l)"
   ]
  },
  {
   "cell_type": "code",
   "execution_count": 12,
   "metadata": {},
   "outputs": [
    {
     "name": "stdout",
     "output_type": "stream",
     "text": [
      "5\n",
      "2 1 -2 2 3\n",
      "-2 2\n",
      "-2 2\n"
     ]
    }
   ],
   "source": [
    "#find pair having sum 0 and print them in ascending order 2nd approach\n",
    "def pairSum0(l):\n",
    "    d={}\n",
    "    for i in l:\n",
    "        if -i in d:\n",
    "            for j in range(0, d[-i]):\n",
    "                p=int((i**2)**(1/2))\n",
    "                print(-p,p)\n",
    "        d[i]=d.get(i, 0)+1\n",
    "\n",
    "n=int(input())\n",
    "l=list(int(i) for i in input().strip().split(' '))\n",
    "pairSum0(l)"
   ]
  },
  {
   "cell_type": "code",
   "execution_count": 1,
   "metadata": {},
   "outputs": [],
   "source": [
    "#making our own hashmap\n",
    "\n",
    "#  we will use MapNode to store key and value\n",
    "class MapNode:\n",
    "    def __init__(self, key, value):\n",
    "        self.key=key\n",
    "        self.value=value\n",
    "        self.next=None\n",
    "        \n",
    "#definig how to map diffrent keys at same index of bucket\n",
    "class MapClass:\n",
    "    def __init__(self):\n",
    "        self.bucketSize=10\n",
    "        self.bucket=[None for i in range(self.bucketSize)]\n",
    "        self.count=0\n",
    "        \n",
    "    #total key value inserted\n",
    "    def size(self):\n",
    "        return self.count\n",
    "    \n",
    "    #getting bucket index\n",
    "    def getBucketIndex(self,hashCode):\n",
    "        return abs(hashCode)%self.bucketSize\n",
    "    \n",
    "    #searching value corresponding to key:\n",
    "    def search(self, key):\n",
    "        hashCode=hash(key)\n",
    "        index=self.getBucketIndex(hashCode)\n",
    "        head=self.bucket[index]\n",
    "        \n",
    "        while head is not None:\n",
    "            if head.key==key:\n",
    "                return head.value\n",
    "            head=head.next\n",
    "        return None\n",
    "    \n",
    "    #deleting value corresponding to key\n",
    "    def remove(self, key):\n",
    "        hashCode=hash(key)\n",
    "        index=self.getBucketIndex(hashCode)\n",
    "        head=self.bucket[index]\n",
    "        prev=None\n",
    "        while head is not None:\n",
    "            if head.key==key:\n",
    "                if prev is None:\n",
    "                    self.bucket[index]=head.next\n",
    "                else:\n",
    "                    prev.next=head.next\n",
    "                self.count-=1\n",
    "                return head.value\n",
    "            prev=head\n",
    "            head=head.next\n",
    "        return None\n",
    "    \n",
    "    #inserting key and values    \n",
    "    def insert(self, key, value):\n",
    "        hashCode=abs(hash(key))\n",
    "        index=self.getBucketIndex(hashCode)\n",
    "        head=self.bucket[index]\n",
    "        #check if key exists. if it is upadte the new value\n",
    "        while head is not None:\n",
    "            if head.key==key:\n",
    "                head.value=value\n",
    "                return\n",
    "            head=head.next\n",
    "        #insert the new MapNode in the linked list at that index\n",
    "        head=self.bucket[index]\n",
    "        newMapNode=MapNode(key, value)\n",
    "        newMapNode.next=head\n",
    "        self.bucket[index]=newMapNode\n",
    "        self.count+=1\n",
    "        "
   ]
  },
  {
   "cell_type": "code",
   "execution_count": 2,
   "metadata": {},
   "outputs": [
    {
     "name": "stdout",
     "output_type": "stream",
     "text": [
      "0\n",
      "1\n",
      "2\n",
      "2\n",
      "removed 10\n",
      "None\n"
     ]
    }
   ],
   "source": [
    "m=MapClass()\n",
    "print(m.size())\n",
    "m.insert('a',10)\n",
    "print(m.size())\n",
    "m.insert('b',30)\n",
    "print(m.size())\n",
    "m.insert('b',40)\n",
    "print(m.size())\n",
    "print('removed',m.remove('a'))\n",
    "print(m.search('d'))"
   ]
  },
  {
   "cell_type": "code",
   "execution_count": 22,
   "metadata": {},
   "outputs": [],
   "source": [
    "#making out own hashmap and perfoming rehashing when load factor > 0.7\n",
    "\n",
    "#defining node class\n",
    "class MapNode:\n",
    "    def __init__(self, key, value):\n",
    "        self.key=key\n",
    "        self.value=value\n",
    "        self.next=None\n",
    "        \n",
    "class Map:\n",
    "    def __init__(self):\n",
    "        self.bucketSize=5\n",
    "        self.bucket=[None for i in range(self.bucketSize)]\n",
    "        self.count=0\n",
    "        \n",
    "    #Total no of key-value pair inserted \n",
    "    def size(self):\n",
    "        return self.count\n",
    "     \n",
    "    #it will give the index if the bucket where key-value should be inserted    \n",
    "    def getIndex(self,hashCode):\n",
    "        return abs(hashCode)%self.bucketSize\n",
    "    \n",
    "    #printing load factor\n",
    "    def printLoadFactor(self):\n",
    "        return self.count/self.bucketSize\n",
    "    \n",
    "    #rehashing when load factor increases 0.7\n",
    "    def reHash(self):\n",
    "        temp=self.bucket\n",
    "        self.bucketSize=2*self.bucketSize\n",
    "        self.bucket=[None for i in range(self.bucketSize)]\n",
    "        self.count=0\n",
    "        #traversing the linked list at each index of the bucket to copy them in new bucket\n",
    "        for head in temp:\n",
    "            while head is not None:\n",
    "                self.insert(head.key, head.value)\n",
    "                head=head.next\n",
    "            \n",
    "    #searching value corresponding to key:\n",
    "    def search(self, key):\n",
    "        hashCode=hash(key)\n",
    "        index=self.getBucketIndex(hashCode)\n",
    "        head=self.bucket[index]\n",
    "        \n",
    "        while head is not None:\n",
    "            if head.key==key:\n",
    "                return head.value\n",
    "            head=head.next\n",
    "        return None\n",
    "    \n",
    "    #deleting value corresponding to key\n",
    "    def remove(self, key):\n",
    "        hashCode=hash(key)\n",
    "        index=self.getBucketIndex(hashCode)\n",
    "        head=self.bucket[index]\n",
    "        prev=None\n",
    "        while head is not None:\n",
    "            if head.key==key:\n",
    "                if prev is None:\n",
    "                    self.bucket[index]=head.next\n",
    "                else:\n",
    "                    prev.next=head.next\n",
    "                self.count-=1\n",
    "                return head.value\n",
    "            prev=head\n",
    "            head=head.next\n",
    "        return None\n",
    "    \n",
    "    #It will insert key-value pair in the bucket\n",
    "    def insert(self,key, value):\n",
    "        hashCode=hash(key)\n",
    "        index=self.getIndex(hashCode)\n",
    "        head=self.bucket[index]\n",
    "        #search if key already exists\n",
    "        while head is not None:\n",
    "            if head.key==key:\n",
    "                head.value=value\n",
    "                return\n",
    "            head=head.next\n",
    "        #reset head because head will become None if key does not found\n",
    "        head=self.bucket[index]\n",
    "        #inserting key, value in the linked list assosciated at that index\n",
    "        newNode=MapNode(key, value)\n",
    "        newNode.next=head\n",
    "        self.bucket[index]=newNode\n",
    "        self.count+=1\n",
    "        loadFactor=self.count/self.bucketSize\n",
    "        if loadFactor >= 0.7:\n",
    "            self.reHash()\n",
    "\n"
   ]
  },
  {
   "cell_type": "code",
   "execution_count": 23,
   "metadata": {},
   "outputs": [
    {
     "name": "stdout",
     "output_type": "stream",
     "text": [
      "0.2\n",
      "0.4\n",
      "0.6\n",
      "0.4\n",
      "0.5\n",
      "0.6\n",
      "0.35\n",
      "0.4\n",
      "0.45\n",
      "0.5\n"
     ]
    }
   ],
   "source": [
    "m=Map()\n",
    "for i in range(10):\n",
    "    m.insert('abc'+str(i), i+1)\n",
    "    print(m.printLoadFactor())"
   ]
  },
  {
   "cell_type": "code",
   "execution_count": 4,
   "metadata": {},
   "outputs": [
    {
     "name": "stdout",
     "output_type": "stream",
     "text": [
      "abcde\n",
      "abcde\n"
     ]
    }
   ],
   "source": [
    "#print unique characters of the string\n",
    "def uniqueChars(string):\n",
    "    d={}\n",
    "    s=''\n",
    "    for i in string:\n",
    "        if i not in d:\n",
    "            s=s+i\n",
    "        d[i]=d.get(i,0)+1\n",
    "    return s\n",
    "\n",
    "# Main\n",
    "string = input()\n",
    "print(uniqueChars(string))\n"
   ]
  },
  {
   "cell_type": "code",
   "execution_count": 10,
   "metadata": {},
   "outputs": [
    {
     "name": "stdout",
     "output_type": "stream",
     "text": [
      "10\n",
      " 95 -97 -387 -435 -5 -70 897 127 23 -23\n",
      "5\n"
     ]
    }
   ],
   "source": [
    "#print longest subset equal to 0  0(N^2)\n",
    "def subsetSum(l):\n",
    "    s=[]\n",
    "    size=len(l)\n",
    "    for i in range(size):\n",
    "        sum=0\n",
    "        count=0\n",
    "        for j in range(i,size):\n",
    "            sum=sum+l[j]\n",
    "            count+=1\n",
    "            if sum==0:\n",
    "                s.append(count)\n",
    "    if len(s)==0:\n",
    "        return 0\n",
    "    return max(s)\n",
    "        \n",
    "n=int(input())\n",
    "l=list(int(i) for i in input().strip().split(' '))\n",
    "finalLen= subsetSum(l)\n",
    "print(finalLen)"
   ]
  },
  {
   "cell_type": "code",
   "execution_count": 19,
   "metadata": {},
   "outputs": [
    {
     "name": "stdout",
     "output_type": "stream",
     "text": [
      "10\n",
      " 95 -97 -387 -435 -5 -70 897 127 23 284\n",
      "5\n"
     ]
    }
   ],
   "source": [
    "#print longest subset equal to 0  0(N)\n",
    "def subsetSum(l):\n",
    "    maxSize=0\n",
    "    d={}\n",
    "    sum=0\n",
    "    for i in range(len(l)):\n",
    "        if sum not in d:\n",
    "            d[sum]=i\n",
    "        sum=sum+l[i]\n",
    "        if sum in d:\n",
    "            size=i-d[sum]+1\n",
    "            if size>maxSize:\n",
    "                maxSize=size\n",
    "            \n",
    "    return maxSize\n",
    "        \n",
    "n=int(input())\n",
    "l=list(int(i) for i in input().strip().split(' '))\n",
    "finalLen= subsetSum(l)\n",
    "print(finalLen)"
   ]
  },
  {
   "cell_type": "code",
   "execution_count": 32,
   "metadata": {},
   "outputs": [
    {
     "name": "stdout",
     "output_type": "stream",
     "text": [
      "4\n",
      "5 1 2 4\n",
      "3\n",
      "2 5\n",
      "1 4\n"
     ]
    }
   ],
   "source": [
    "#print pairs with diffrence k\n",
    "def printPairDiffK(l, k):\n",
    "    d={}\n",
    "    for i in l:\n",
    "        d[i]=d.get(i,0)+1\n",
    "    if len(d)==1:\n",
    "        x=l[0]\n",
    "        for k in range(2*x-2):\n",
    "            print(x,x)\n",
    "        return\n",
    "    for i in l:\n",
    "        if i-k in l:\n",
    "            for j in range(d[i]*d[i-k]):\n",
    "                if i<i-k:\n",
    "                    print(i, i-k)\n",
    "                else:\n",
    "                    print(i-k,i)\n",
    "                d[i]=0\n",
    "                d[i-k]=0\n",
    "                \n",
    "\n",
    "n=int(input())\n",
    "l=list(int(i) for i in input().strip().split(' '))\n",
    "k=int(input())\n",
    "printPairDiffK(l, k)"
   ]
  },
  {
   "cell_type": "code",
   "execution_count": 35,
   "metadata": {},
   "outputs": [
    {
     "name": "stdout",
     "output_type": "stream",
     "text": [
      "20\n",
      "693 697 299 662 290 288 925 234 257 192 687 144 142 710 66 955 321 629 989 621 \n",
      "693\n"
     ]
    }
   ],
   "source": [
    "#find longest consecutive subsequence\n",
    "def longestConsecutiveSequence(l):\n",
    "    d={}\n",
    "    final=[]\n",
    "    maxCount=0\n",
    "    sequenceStart=0\n",
    "    for i in l:\n",
    "        d[i]=True\n",
    "    for j in l:\n",
    "        if d[j]==True:\n",
    "            element=j\n",
    "            start=j\n",
    "            count=1\n",
    "            while j+1 in d:\n",
    "                d[j+1]=False\n",
    "                count+=1\n",
    "                j=j+1\n",
    "            j=element\n",
    "            while j-1 in d:\n",
    "                d[j-1]=False\n",
    "                start=j-1\n",
    "                count+=1\n",
    "                j=j-1\n",
    "            if count==maxCount:\n",
    "                if l.index(start)<l.index(sequenceStart):\n",
    "                    sequenceStart=start\n",
    "            elif count>maxCount:\n",
    "                maxCount=count\n",
    "                sequenceStart=start\n",
    "    for k in range(maxCount):\n",
    "        final.append(sequenceStart+k)\n",
    "    return final\n",
    "            \n",
    "#main\n",
    "n=int(input())\n",
    "l=[int(i) for i in input().split()]\n",
    "final=longestConsecutiveSequence(l)\n",
    "for num in final:\n",
    "    print(num)"
   ]
  },
  {
   "cell_type": "code",
   "execution_count": null,
   "metadata": {},
   "outputs": [],
   "source": []
  }
 ],
 "metadata": {
  "kernelspec": {
   "display_name": "Python 3",
   "language": "python",
   "name": "python3"
  },
  "language_info": {
   "codemirror_mode": {
    "name": "ipython",
    "version": 3
   },
   "file_extension": ".py",
   "mimetype": "text/x-python",
   "name": "python",
   "nbconvert_exporter": "python",
   "pygments_lexer": "ipython3",
   "version": "3.7.4"
  }
 },
 "nbformat": 4,
 "nbformat_minor": 2
}
